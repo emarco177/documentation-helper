{
  "cells": [
    {
      "cell_type": "raw",
      "metadata": {
        "vscode": {
          "languageId": "raw"
        }
      },
      "source": [
        "# 🤖 TavilyCrawl Tutorial: Intelligent Documentation Discovery\n",
        "\n",
        "> **📚 Part of the LangChain Course: Building AI Agents & RAG Apps**  \n",
        "> [🎓 Get the full course](https://www.udemy.com/course/langchain/?referralCode=D981B8213164A3EA91AC)\n",
        "\n",
        "This notebook demonstrates the power of **TavilyCrawl** - Tavily's most intelligent web crawling tool that:\n",
        "- 🕷️ **Crawls intelligently** using graph-based traversal with parallel exploration\n",
        "- 🧠 **Understands instructions** and filters content based on your specific needs\n",
        "- 🎯 **Finds exactly what you need** without manual filtering or post-processing\n",
        "- ⚡ **Processes hundreds of pages** efficiently with built-in content extraction\n",
        "\n",
        "**Perfect for targeted documentation discovery, research, and intelligent content collection!** 🚀\n",
        "\n",
        "---\n"
      ]
    },
    {
      "cell_type": "raw",
      "metadata": {
        "vscode": {
          "languageId": "raw"
        }
      },
      "source": [
        "## 📦 Setup & Installation\n",
        "\n",
        "First, let's install the required packages and set up our environment.\n"
      ]
    },
    {
      "cell_type": "code",
      "execution_count": null,
      "metadata": {},
      "outputs": [],
      "source": [
        "# Install required packages\n",
        "%pip install langchain-tavily certifi\n",
        "\n",
        "# For pretty printing and visualization\n",
        "%pip install rich pandas\n"
      ]
    },
    {
      "cell_type": "code",
      "execution_count": null,
      "metadata": {},
      "outputs": [],
      "source": [
        "import os\n",
        "import ssl\n",
        "from typing import Any, Dict, List\n",
        "\n",
        "import certifi\n",
        "from langchain_tavily import TavilyCrawl\n",
        "from rich.console import Console\n",
        "from rich.panel import Panel\n",
        "from rich.table import Table\n",
        "\n",
        "# Configure SSL context\n",
        "ssl_context = ssl.create_default_context(cafile=certifi.where())\n",
        "os.environ[\"SSL_CERT_FILE\"] = certifi.where()\n",
        "os.environ[\"REQUESTS_CA_BUNDLE\"] = certifi.where()\n",
        "\n",
        "# Initialize rich console for pretty printing\n",
        "console = Console()\n",
        "\n",
        "print(\"✅ All imports successful!\")\n"
      ]
    },
    {
      "cell_type": "raw",
      "metadata": {
        "vscode": {
          "languageId": "raw"
        }
      },
      "source": [
        "## 🔑 API Key Setup\n",
        "\n",
        "You'll need a Tavily API key to use TavilyCrawl. Get yours at [tavily.com](https://app.tavily.com/home).\n",
        "\n",
        "Set environment variable `TAVILY_API_KEY`\n"
      ]
    },
    {
      "cell_type": "code",
      "execution_count": null,
      "metadata": {},
      "outputs": [],
      "source": [
        "# Set directly (uncomment and add your key)\n",
        "# tavily_api_key = \"your_tavily_api_key_here\"\n",
        "\n",
        "os.environ[\"TAVILY_API_KEY\"] = \"your_tavily_api_key_here\"\n"
      ]
    },
    {
      "cell_type": "raw",
      "metadata": {
        "vscode": {
          "languageId": "raw"
        }
      },
      "source": [
        "## 🤖 What is TavilyCrawl?\n",
        "\n",
        "TavilyCrawl is Tavily's most advanced crawling tool that goes beyond simple URL discovery. Here's what makes it special:\n",
        "\n",
        "### 🧠 **Intelligent Understanding**\n",
        "- Takes natural language instructions\n",
        "- Understands context and intent\n",
        "- Filters content based on your specific needs\n",
        "\n",
        "### 🕷️ **Advanced Crawling**\n",
        "- Graph-based website traversal\n",
        "- Parallel exploration of hundreds of paths\n",
        "- Built-in content extraction and cleaning\n",
        "\n",
        "### 🎯 **Smart Filtering**\n",
        "- Only returns relevant content\n",
        "- Eliminates manual post-processing\n",
        "- Saves time and API calls\n",
        "\n",
        "Let's see it in action!\n"
      ]
    },
    {
      "cell_type": "code",
      "execution_count": null,
      "metadata": {},
      "outputs": [],
      "source": [
        "# Initialize TavilyCrawl\n",
        "tavily_crawl = TavilyCrawl()\n",
        "\n",
        "print(\"✅ TavilyCrawl initialized successfully!\")\n"
      ]
    },
    {
      "cell_type": "raw",
      "metadata": {
        "vscode": {
          "languageId": "raw"
        }
      },
      "source": [
        "## 🎯 Demo 1: TavilyCrawl Without Instructions\n",
        "\n",
        "Let's first see what happens when we use TavilyCrawl without any specific instructions. This will show us the baseline behavior.\n"
      ]
    },
    {
      "cell_type": "code",
      "execution_count": null,
      "metadata": {},
      "outputs": [],
      "source": [
        "# Basic TavilyCrawl without instructions\n",
        "target_url = \"https://python.langchain.com/\"\n",
        "\n",
        "console.print(Panel.fit(\n",
        "    f\"🎯 **Target**: {target_url}\\n📋 **Instructions**: None (baseline crawl)\",\n",
        "    title=\"Basic Crawl Configuration\",\n",
        "    border_style=\"yellow\"\n",
        "))\n",
        "\n",
        "console.print(\"🔄 Running TavilyCrawl without instructions...\", style=\"bold yellow\")\n",
        "\n",
        "# Basic crawl without instructions\n",
        "basic_result = tavily_crawl.invoke({\n",
        "    \"url\": target_url,\n",
        "    \"max_depth\": 3,\n",
        "    \"extract_depth\": \"advanced\"\n",
        "})\n",
        "\n",
        "basic_results = basic_result.get(\"results\", [])\n",
        "console.print(f\"✅ Basic crawl completed! Found {len(basic_results)} pages\", style=\"bold green\")\n",
        "\n",
        "# Show what we got without instructions\n",
        "console.print(f\"\\n📊 **Without Instructions**: TavilyCrawl returned {len(basic_results)} pages\", style=\"bold yellow\")\n",
        "console.print(\"   📄 Mix of all content types (chains, prompts, agents, guides, etc.)\")\n",
        "console.print(\"   🔍 No filtering - everything from the crawled sections\")\n",
        "console.print(\"   ⚠️  Requires manual work to find what you actually need\")\n"
      ]
    },
    {
      "cell_type": "code",
      "execution_count": null,
      "metadata": {},
      "outputs": [],
      "source": [
        "# Let's look at what the basic crawl found\n",
        "console.print(\"\\n📋 **Sample Results from Basic Crawl (no filtering):**\\n\", style=\"bold yellow\")\n",
        "\n",
        "for i, result in enumerate(basic_results[:3], 1):  # Show first 3 results\n",
        "    title = result.get(\"title\", \"Untitled\")\n",
        "    url = result.get(\"url\", \"No URL\")\n",
        "    content = result.get(\"raw_content\", \"No content\")[:150] + \"...\"\n",
        "    \n",
        "    panel_content = f\"\"\"\n",
        "🔗 **URL**: {url}\n",
        "\n",
        "📖 **Content Preview**:\n",
        "{content}\n",
        "    \"\"\".strip()\n",
        "    \n",
        "    console.print(Panel(\n",
        "        panel_content,\n",
        "        title=f\"📄 {i}. {title}\",\n",
        "        border_style=\"yellow\"\n",
        "    ))\n",
        "    print()\n",
        "\n",
        "console.print(f\"... and {len(basic_results) - 3} more mixed results\", style=\"italic yellow\")\n",
        "console.print(\"🔍 **Notice**: These are mixed content types - not specifically about agents!\", style=\"bold yellow\")\n"
      ]
    },
    {
      "cell_type": "raw",
      "metadata": {
        "vscode": {
          "languageId": "raw"
        }
      },
      "source": [
        "## 🎯 Demo 2: TavilyCrawl WITH Instructions - The Magic!\n",
        "\n",
        "Now let's see the real power of TavilyCrawl! By adding simple instructions, we can get exactly what we need without any manual filtering.\n",
        "\n",
        "### The Problem We Just Saw:\n",
        "- Demo 1 returned everything (all content types mixed together)\n",
        "- We'd need to manually filter through all results\n",
        "- No way to target specific content\n",
        "\n",
        "### The TavilyCrawl Solution:\n",
        "- Add simple natural language instructions\n",
        "- Let AI do the intelligent filtering\n",
        "- Get exactly what we need automatically!\n"
      ]
    },
    {
      "cell_type": "code",
      "execution_count": null,
      "metadata": {},
      "outputs": [],
      "source": [
        "# Now let's add intelligent instructions to the same target\n",
        "instructions = \"Find and extract content from pages specifically related to agents\"\n",
        "\n",
        "console.print(Panel.fit(\n",
        "    f\"🎯 **Target**: {target_url} (same as Demo 1)\\n📋 **Instructions**: {instructions}\",\n",
        "    title=\"Intelligent Crawl Configuration\", \n",
        "    border_style=\"green\"\n",
        "))\n"
      ]
    },
    {
      "cell_type": "code",
      "execution_count": null,
      "metadata": {},
      "outputs": [],
      "source": [
        "# Execute the intelligent crawl - this demonstrates TavilyCrawl's power!\n",
        "console.print(\"🚀 Starting intelligent crawl with instructions...\", style=\"bold blue\")\n",
        "console.print(\"Watch how instructions transform the results!\", style=\"italic\")\n",
        "\n",
        "# Use TavilyCrawl with instructions\n",
        "crawl_result = tavily_crawl.invoke({\n",
        "    \"url\": target_url,\n",
        "    \"instructions\": instructions,\n",
        "    \"max_depth\": 3,\n",
        "    \"extract_depth\": \"advanced\"\n",
        "})\n",
        "\n",
        "console.print(\"✅ Intelligent crawl completed successfully!\", style=\"bold green\")\n",
        "\n",
        "# Show the power of intelligent filtering\n",
        "results = crawl_result.get(\"results\", [])\n",
        "\n",
        "# Compare with previous demo\n",
        "console.print(f\"\\n🎯 **The Magic of Instructions:**\", style=\"bold blue\")\n",
        "console.print(f\"   📊 Demo 1 (no instructions): {len(basic_results)} mixed pages\")\n",
        "console.print(f\"   🎯 Demo 2 (with instructions): {len(results)} targeted agent pages\")\n",
        "console.print(f\"   ⚡ **Intelligent filtering eliminated {len(basic_results) - len(results)} irrelevant pages!**\", style=\"bold green\")\n"
      ]
    },
    {
      "cell_type": "code",
      "execution_count": null,
      "metadata": {},
      "outputs": [],
      "source": [
        "# Display the agent documentation TavilyCrawl found\n",
        "console.print(\"\\n🎯 **LangChain Agent Documentation Found by TavilyCrawl:**\\n\", style=\"bold green\")\n",
        "\n",
        "for i, result in enumerate(results, 1):\n",
        "    title = result.get(\"title\", \"Untitled\")\n",
        "    url = result.get(\"url\", \"No URL\")\n",
        "    content = result.get(\"raw_content\", \"No content\")[:200] + \"...\"\n",
        "    \n",
        "    panel_content = f\"\"\"\n",
        "🔗 **URL**: {url}\n",
        "\n",
        "📖 **Content Preview**:\n",
        "{content}\n",
        "    \"\"\".strip()\n",
        "    \n",
        "    console.print(Panel(\n",
        "        panel_content,\n",
        "        title=f\"📑 {i}. {title}\",\n",
        "        border_style=\"green\"\n",
        "    ))\n",
        "    print()\n",
        "\n",
        "# Show the comparison table\n",
        "comparison_table = Table(title=\"⚡ Crawling Approaches Comparison\")\n",
        "comparison_table.add_column(\"Approach\", style=\"cyan\", no_wrap=True)\n",
        "comparison_table.add_column(\"Time Required\", style=\"yellow\")\n",
        "comparison_table.add_column(\"Expertise Needed\", style=\"red\")\n",
        "comparison_table.add_column(\"Flexibility\", style=\"blue\")\n",
        "comparison_table.add_column(\"Precision\", style=\"green\")\n",
        "\n",
        "comparison_table.add_row(\n",
        "    \"Manual Crawling\",\n",
        "    \"3-5 hours\",\n",
        "    \"High (coding, filtering)\",\n",
        "    \"Low\",\n",
        "    \"Variable\"\n",
        ")\n",
        "\n",
        "comparison_table.add_row(\n",
        "    \"TavilyMap + Extract\",\n",
        "    \"30-60 minutes\",\n",
        "    \"High (caveats, complexity)\",\n",
        "    \"High\",\n",
        "    \"Good (with expertise)\"\n",
        ")\n",
        "\n",
        "comparison_table.add_row(\n",
        "    \"🤖 TavilyCrawl\",\n",
        "    \"2-5 minutes\",\n",
        "    \"Minimal (just instructions)\",\n",
        "    \"High\",\n",
        "    \"High (AI-powered)\"\n",
        ")\n",
        "\n",
        "console.print(comparison_table)\n",
        "\n",
        "console.print(\"\\n🎉 **Why TavilyCrawl is the Best of Both Worlds:**\", style=\"bold magenta\")\n",
        "console.print(\"   🚀 **Speed**: 60-100x faster than manual crawling\")\n",
        "console.print(\"   🧠 **Simplicity**: No expertise needed - just natural language instructions\")\n",
        "console.print(\"   🎯 **Flexibility**: High flexibility without the complexity of Map+Extract\")\n",
        "console.print(\"   ⚡ **Precision**: AI-powered filtering with no caveats or manual work\")\n",
        "console.print(\"   🔧 **Ready-to-Use**: Immediate integration into your applications\")\n",
        "\n",
        "console.print(\"\\n💡 **TavilyCrawl = TavilyMap + TavilyExtract + AI Intelligence - Complexity!**\", style=\"bold blue\")\n"
      ]
    },
    {
      "cell_type": "raw",
      "metadata": {
        "vscode": {
          "languageId": "raw"
        }
      },
      "source": [
        "## 🎉 Conclusion: TavilyCrawl - The Best of Both Worlds\n",
        "\n",
        "This tutorial demonstrated how **TavilyCrawl** combines the flexibility of TavilyMap + TavilyExtract with the simplicity of natural language instructions:\n",
        "\n",
        "### 🧠 **The Evolution of Web Crawling**:\n",
        "\n",
        "1. **Manual Crawling**: Slow, requires coding expertise, variable results\n",
        "2. **TavilyMap + TavilyExtract**: Powerful but complex, lots of caveats, needs expertise\n",
        "3. **🤖 TavilyCrawl**: **Best of both worlds** - flexible, intelligent, and simple!\n",
        "\n",
        "### 🚀 **Why TavilyCrawl Wins**:\n",
        "\n",
        "- **🎯 Combines Power & Simplicity**: All the flexibility without the complexity\n",
        "- **🧠 Natural Language Instructions**: No need to learn APIs or handle caveats\n",
        "- **⚡ Instant Intelligence**: AI does the heavy lifting automatically\n",
        "- **🔧 Zero Expertise Required**: Just describe what you want in plain English\n",
        "- **📈 Production Ready**: Immediate integration with consistent results\n",
        "\n",
        "### 🎯 **Perfect For**:\n",
        "\n",
        "- Building intelligent RAG systems without crawling expertise\n",
        "- Rapid prototyping of documentation discovery systems\n",
        "- Production applications that need reliable, filtered content\n",
        "- Anyone who wants TavilyMap + TavilyExtract power without the complexity\n",
        "\n",
        "---\n",
        "\n",
        "**TavilyCrawl = TavilyMap + TavilyExtract + AI Intelligence - All the Complexity!** 🤖✨\n"
      ]
    }
  ],
  "metadata": {
    "language_info": {
      "name": "python"
    }
  },
  "nbformat": 4,
  "nbformat_minor": 2
}
