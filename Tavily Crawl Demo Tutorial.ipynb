{
 "cells": [
  {
   "cell_type": "markdown",
   "metadata": {
    "vscode": {
     "languageId": "raw"
    }
   },
   "source": [
    "# TavilyCrawl Tutorial: Intelligent Web Crawling\n",
    "\n",
    "## What We'll Build\n",
    "\n",
    "In this tutorial, you'll learn how to use TavilyCrawl to intelligently crawl websites using AI-guided instructions. We'll demonstrate:\n",
    "\n",
    "1. **Basic Web Crawling** - Crawl a website without specific instructions\n",
    "2. **Instruction-Guided Crawling** - Use natural language to target specific content\n",
    "3. **Results Comparison** - Compare the effectiveness of both approaches\n",
    "4. **Best Practices** - Learn how to write effective crawling instructions\n",
    "\n",
    "### Target Website\n",
    "We'll crawl the LangChain documentation (https://python.langchain.com/) to find content about AI agents.\n",
    "\n",
    "## What is TavilyCrawl?\n",
    "\n",
    "TavilyCrawl is an intelligent web crawler that uses AI to determine which paths to explore during crawling. It combines AI-powered decision making with parallel processing capabilities.\n",
    "\n",
    "### Key Features:\n",
    "\n",
    "- **AI-Powered Path Selection**: Uses AI to determine which paths to explore\n",
    "- **Parallel Processing**: Explores hundreds of paths simultaneously  \n",
    "- **Advanced Extraction**: Extracts content from dynamically rendered pages\n",
    "- **Instruction-Driven**: Follows natural language instructions to guide exploration\n",
    "- **Targeted Content**: Returns content tailored for LLM integration and RAG systems\n",
    "\n",
    "### Tavily Resources:\n",
    "- <a href=\"https://tavily.com\" target=\"_blank\">Official Website</a>\n",
    "- <a href=\"https://docs.tavily.com\" target=\"_blank\">API Documentation</a>\n",
    "- <a href=\"https://docs.tavily.com/documentation/api-reference/endpoint/crawl\" target=\"_blank\">Crawl API Reference</a>\n",
    "- <a href=\"https://pypi.org/project/langchain-tavily/\" target=\"_blank\">LangChain Python Integration</a>\n",
    "- <a href=\"https://app.tavily.com/home\" target=\"_blank\">Get API Key</a>\n",
    "\n",
    "This tutorial demonstrates TavilyCrawl by comparing crawl results with and without instructions on the LangChain documentation.\n",
    "\n",
    "---"
   ]
  },
  {
   "cell_type": "markdown",
   "metadata": {
    "vscode": {
     "languageId": "raw"
    }
   },
   "source": [
    "## Setup & Installation\n",
    "\n",
    "First, let's install the required packages and set up our environment.\n"
   ]
  },
  {
   "cell_type": "code",
   "execution_count": null,
   "metadata": {},
   "outputs": [],
   "source": [
    "# Install required packages\n",
    "%pip install langchain-tavily certifi\n",
    "\n",
    "# For pretty printing and visualization\n",
    "%pip install rich pandas"
   ]
  },
  {
   "cell_type": "code",
   "execution_count": null,
   "metadata": {},
   "outputs": [],
   "source": [
    "import os\n",
    "import ssl\n",
    "import json\n",
    "from typing import Any, Dict, List\n",
    "\n",
    "import certifi\n",
    "from langchain_tavily import TavilyCrawl\n",
    "from rich.console import Console\n",
    "from rich.panel import Panel\n",
    "from rich.table import Table\n",
    "from rich.json import JSON\n",
    "\n",
    "# Configure SSL context\n",
    "ssl_context = ssl.create_default_context(cafile=certifi.where())\n",
    "os.environ[\"SSL_CERT_FILE\"] = certifi.where()\n",
    "os.environ[\"REQUESTS_CA_BUNDLE\"] = certifi.where()\n",
    "\n",
    "# Initialize rich console for pretty printing\n",
    "console = Console()\n",
    "\n",
    "print(\"All imports successful!\")"
   ]
  },
  {
   "cell_type": "markdown",
   "metadata": {
    "vscode": {
     "languageId": "raw"
    }
   },
   "source": [
    "## API Key Setup\n",
    "\n",
    "You'll need a Tavily API key to use TavilyCrawl. Get yours at [https://app.tavily.com/home](https://app.tavily.com/home).\n",
    "\n",
    "Set environment variable `TAVILY_API_KEY`\n"
   ]
  },
  {
   "cell_type": "code",
   "execution_count": null,
   "metadata": {},
   "outputs": [],
   "source": [
    "# Set your Tavily API key here\n",
    "import getpass\n",
    "\n",
    "# For Google Colab, you can use getpass for secure input\n",
    "if 'TAVILY_API_KEY' not in os.environ:\n",
    "    os.environ['TAVILY_API_KEY'] = getpass.getpass('Enter your Tavily API key: ')\n",
    "\n",
    "# Alternative: Set directly (uncomment and add your key)\n",
    "# os.environ[\"TAVILY_API_KEY\"] = \"your_tavily_api_key_here\"\n",
    "\n",
    "print(\"API key set successfully!\")"
   ]
  },
  {
   "cell_type": "markdown",
   "metadata": {
    "vscode": {
     "languageId": "raw"
    }
   },
   "source": [
    "## Initialize TavilyCrawl\n",
    "\n",
    "Initialize TavilyCrawl and set up target URL for demonstration."
   ]
  },
  {
   "cell_type": "code",
   "execution_count": null,
   "metadata": {},
   "outputs": [],
   "source": [
    "# Initialize TavilyCrawl\n",
    "tavily_crawl = TavilyCrawl()\n",
    "\n",
    "# Target URL: LangChain Documentation\n",
    "target_url = \"https://python.langchain.com/\"\n",
    "\n",
    "console.print(Panel.fit(\n",
    "    f\"Target Website: {target_url}\\nCrawler: TavilyCrawl\",\n",
    "    title=\"Demo Setup\",\n",
    "    border_style=\"bright_blue\"\n",
    "))\n",
    "\n",
    "print(\"TavilyCrawl initialized successfully\")"
   ]
  },
  {
   "cell_type": "markdown",
   "metadata": {
    "vscode": {
     "languageId": "raw"
    }
   },
   "source": [
    "## Demo 1: Crawl Without Instructions\n",
    "\n",
    "Crawl without specific instructions to show baseline behavior on the LangChain documentation."
   ]
  },
  {
   "cell_type": "code",
   "execution_count": null,
   "metadata": {},
   "outputs": [],
   "source": [
    "# Demo 1: Crawl without instructions\n",
    "console.print(Panel.fit(\n",
    "    f\"Target: {target_url}\\nInstructions: None (baseline crawl)\\nMax Depth: 1\\nExtract Depth: advanced\",\n",
    "    title=\"Demo 1: Crawl Without Instructions\",\n",
    "    border_style=\"blue\"\n",
    "))\n",
    "\n",
    "console.print(\"Running TavilyCrawl without instructions...\", style=\"blue\")\n",
    "\n",
    "# Basic crawl without instructions\n",
    "basic_result = tavily_crawl.invoke({\n",
    "    \"url\": target_url,\n",
    "    \"max_depth\": 1,\n",
    "    \"extract_depth\": \"advanced\"\n",
    "})\n",
    "\n",
    "# Show raw output immediately\n",
    "console.print(basic_result)\n",
    "\n",
    "# Extract results for analysis\n",
    "basic_results = basic_result.get(\"results\", [])"
   ]
  },
  {
   "cell_type": "markdown",
   "metadata": {},
   "source": [
    "# Now display the formatted results nicely\n"
   ]
  },
  {
   "cell_type": "code",
   "execution_count": null,
   "metadata": {},
   "outputs": [],
   "source": [
    "console.print(f\"\\nResults Without Instructions: {len(basic_results)} pages\", style=\"cyan\")\n",
    "console.print(\"   Mix of all content types from LangChain docs\")\n",
    "console.print(\"   No filtering - everything from the crawled sections\")\n",
    "console.print(\"   Requires manual work to find specific content\")\n",
    "\n",
    "console.print(\"\\nSample Results from Basic Crawl (No Filtering):\\n\", style=\"cyan\")\n",
    "\n",
    "for i, result in enumerate(basic_results[:3], 1):  # Show first 3 results\n",
    "    url = result.get(\"url\", \"No URL\")\n",
    "    content = result.get(\"raw_content\", \"No content\")[:150] + \"...\"\n",
    "    \n",
    "    panel_content = f\"\"\"URL: {url}\n",
    "\n",
    "Content Preview:\n",
    "{content}\"\"\"\n",
    "    \n",
    "    console.print(Panel(\n",
    "        panel_content,\n",
    "        title=f\"{i}. {url}\",\n",
    "        border_style=\"blue\"\n",
    "    ))\n",
    "    print()\n",
    "\n",
    "console.print(f\"... and {len(basic_results) - 3} more mixed results\", style=\"italic cyan\")\n",
    "console.print(\"Note: Mixed content types - guides, integrations, concepts, etc.\", style=\"cyan\")"
   ]
  },
  {
   "cell_type": "markdown",
   "metadata": {},
   "source": [
    "## Demo 2: Crawl With Instructions\n",
    "\n",
    "Use specific instructions to improve the quality and relevance of crawl results. Instructions can dramatically improve targeting and filtering."
   ]
  },
  {
   "cell_type": "code",
   "execution_count": null,
   "metadata": {},
   "outputs": [],
   "source": [
    "instructions = \"Find all pages about ai agents\"\n",
    "\n",
    "console.print(Panel.fit(\n",
    "    f\"Target: {target_url} (same as Demo 1)\\nInstructions: {instructions}\\nType: Specific, action-oriented\\nMax Depth: 3\\nExtract Depth: advanced\",\n",
    "    title=\"Demo 2: Crawl With Instructions\", \n",
    "    border_style=\"green\"\n",
    "))\n",
    "\n",
    "console.print(\"Starting crawl with instructions...\", style=\"green\")\n",
    "console.print(\"Instructions will guide the AI to target specific content\", style=\"italic\")"
   ]
  },
  {
   "cell_type": "code",
   "execution_count": null,
   "metadata": {},
   "outputs": [],
   "source": [
    "# Execute the crawl with instructions\n",
    "result_with_instructions = tavily_crawl.invoke({\n",
    "    \"url\": target_url,\n",
    "    \"instructions\": instructions,\n",
    "    \"max_depth\": 3,\n",
    "    \"extract_depth\": \"advanced\"\n",
    "})\n",
    "\n",
    "# Show raw output immediately\n",
    "console.print(\"\\nRaw TavilyCrawl Output:\", style=\"yellow\")\n",
    "console.print(result_with_instructions)\n",
    "\n",
    "console.print(\"\\nCrawl with instructions completed\", style=\"green\")\n",
    "\n",
    "# Show the results of instruction-based filtering\n",
    "results_with_instructions = result_with_instructions.get(\"results\", [])"
   ]
  },
  {
   "cell_type": "code",
   "execution_count": null,
   "metadata": {},
   "outputs": [],
   "source": [
    "# Display the targeted agent documentation found\n",
    "console.print(\"\\nLangChain Agent Documentation Found:\\n\", style=\"green\")\n",
    "\n",
    "for i, result in enumerate(results_with_instructions, 1):\n",
    "    url = result.get(\"url\", \"No URL\")\n",
    "    content = result.get(\"raw_content\", \"No content\")[:200] + \"...\"\n",
    "    \n",
    "    panel_content = f\"\"\"URL: {url}\n",
    "\n",
    "Content Preview:\n",
    "{content}\"\"\"\n",
    "    \n",
    "    console.print(Panel(\n",
    "        panel_content,\n",
    "        title=f\"{i}. {url}\",\n",
    "        border_style=\"green\"\n",
    "    ))\n",
    "    print()\n",
    "\n",
    "console.print(\"Note: All results are specifically about agents in LangChain\", style=\"green\")"
   ]
  },
  {
   "cell_type": "markdown",
   "metadata": {},
   "source": [
    "## Comparison of Both Approaches\n",
    "\n",
    "Compare both approaches to understand the impact of instruction quality."
   ]
  },
  {
   "cell_type": "code",
   "execution_count": null,
   "metadata": {},
   "outputs": [],
   "source": [
    "# Create comparison table\n",
    "comparison_table = Table(title=\"TavilyCrawl: Instruction Quality Comparison\")\n",
    "comparison_table.add_column(\"Approach\", style=\"cyan\", no_wrap=True)\n",
    "comparison_table.add_column(\"Instructions\", style=\"yellow\")\n",
    "comparison_table.add_column(\"Pages Found\", style=\"blue\")\n",
    "comparison_table.add_column(\"Content Quality\", style=\"green\")\n",
    "comparison_table.add_column(\"Usefulness\", style=\"red\")\n",
    "\n",
    "comparison_table.add_row(\n",
    "    \"No Instructions\",\n",
    "    \"None (baseline)\",\n",
    "    f\"{len(basic_results)}\",\n",
    "    \"Mixed (all types)\",\n",
    "    \"Low (requires filtering)\"\n",
    ")\n",
    "\n",
    "comparison_table.add_row(\n",
    "    \"With Instructions\",\n",
    "    instructions,\n",
    "    f\"{len(results_with_instructions)}\",\n",
    "    \"Highly targeted\",\n",
    "    \"High (ready to use)\"\n",
    ")\n",
    "\n",
    "console.print(comparison_table)\n",
    "\n",
    "console.print(\"\\nKey Observations:\", style=\"blue\")\n",
    "console.print(\"   No instructions return everything, requiring manual filtering\")\n",
    "console.print(\"   Instructions provide highly targeted, ready-to-use results\")\n",
    "console.print(\"   Best practice: Use specific, action-oriented instructions\")\n",
    "\n",
    "console.print(f\"\\nEfficiency with Instructions:\", style=\"green\")\n",
    "console.print(f\"   Filtering efficiency: {((len(basic_results) - len(results_with_instructions)) / len(basic_results) * 100):.1f}% reduction in noise\")\n",
    "console.print(\"   Time saved: No manual post-processing required\")\n",
    "console.print(\"   AI-powered: Intelligent path selection and content filtering\")"
   ]
  }
 ],
 "metadata": {
  "kernelspec": {
   "display_name": "documentation-helper-zmyxh5Q8",
   "language": "python",
   "name": "python3"
  },
  "language_info": {
   "codemirror_mode": {
    "name": "ipython",
    "version": 3
   },
   "file_extension": ".py",
   "mimetype": "text/x-python",
   "name": "python",
   "nbconvert_exporter": "python",
   "pygments_lexer": "ipython3",
   "version": "3.10.11"
  }
 },
 "nbformat": 4,
 "nbformat_minor": 2
}
