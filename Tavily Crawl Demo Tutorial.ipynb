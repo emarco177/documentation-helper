{
 "cells": [
  {
   "cell_type": "markdown",
   "metadata": {
    "vscode": {
     "languageId": "raw"
    }
   },
   "source": "# TavilyCrawl Tutorial: Intelligent Web Crawling\n\n## What We'll Build\n\nIn this tutorial, you'll learn how to use TavilyCrawl to intelligently crawl websites using AI-guided instructions. We'll demonstrate:\n\n1. **Basic Web Crawling** - Crawl a website without specific instructions\n2. **Instruction-Guided Crawling** - Use natural language to target specific content\n3. **Results Comparison** - Compare the effectiveness of both approaches\n4. **Best Practices** - Learn how to write effective crawling instructions\n\n### Target Website\nWe'll crawl the LangChain documentation (https://python.langchain.com/) to find content about AI agents.\n\n## What is TavilyCrawl?\n\nTavilyCrawl is an intelligent web crawler that uses AI to determine which paths to explore during crawling. It combines AI-powered decision making with parallel processing capabilities.\n\n### Key Features:\n\n- **AI-Powered Path Selection**: Uses AI to determine which paths to explore\n- **Parallel Processing**: Explores hundreds of paths simultaneously  \n- **Advanced Extraction**: Extracts content from dynamically rendered pages\n- **Instruction-Driven**: Follows natural language instructions to guide exploration\n- **Targeted Content**: Returns content tailored for LLM integration and RAG systems\n\n### Tavily Resources:\n- <a href=\"https://tavily.com\" target=\"_blank\">Official Website</a>\n- <a href=\"https://docs.tavily.com\" target=\"_blank\">API Documentation</a>\n- <a href=\"https://docs.tavily.com/documentation/api-reference/endpoint/crawl\" target=\"_blank\">Crawl API Reference</a>\n- <a href=\"https://pypi.org/project/langchain-tavily/\" target=\"_blank\">LangChain Python Integration</a>\n- <a href=\"https://app.tavily.com/home\" target=\"_blank\">Get API Key</a>\n\nThis tutorial demonstrates TavilyCrawl by comparing crawl results with and without instructions on the LangChain documentation.\n\n---",
   "outputs": []
  },
  {
   "cell_type": "markdown",
   "metadata": {
    "vscode": {
     "languageId": "raw"
    }
   },
   "source": [
    "## Setup & Installation\n",
    "\n",
    "First, let's install the required packages and set up our environment.\n"
   ]
  },
  {
   "cell_type": "code",
   "execution_count": null,
   "metadata": {},
   "outputs": [
    {
     "name": "stdout",
     "output_type": "stream",
     "text": [
      "Requirement already satisfied: langchain-tavily in /Users/edenmarco/.local/share/virtualenvs/documentation-helper-zmyxh5Q8/lib/python3.10/site-packages (0.2.7)\n",
      "Requirement already satisfied: certifi in /Users/edenmarco/.local/share/virtualenvs/documentation-helper-zmyxh5Q8/lib/python3.10/site-packages (2025.6.15)\n",
      "Requirement already satisfied: aiohttp<4.0.0,>=3.11.14 in /Users/edenmarco/.local/share/virtualenvs/documentation-helper-zmyxh5Q8/lib/python3.10/site-packages (from langchain-tavily) (3.12.13)\n",
      "Requirement already satisfied: langchain<0.4.0,>=0.3.20 in /Users/edenmarco/.local/share/virtualenvs/documentation-helper-zmyxh5Q8/lib/python3.10/site-packages (from langchain-tavily) (0.3.26)\n",
      "Requirement already satisfied: langchain-core<0.4.0,>=0.3.15 in /Users/edenmarco/.local/share/virtualenvs/documentation-helper-zmyxh5Q8/lib/python3.10/site-packages (from langchain-tavily) (0.3.68)\n",
      "Requirement already satisfied: requests<3.0.0,>=2.32.3 in /Users/edenmarco/.local/share/virtualenvs/documentation-helper-zmyxh5Q8/lib/python3.10/site-packages (from langchain-tavily) (2.32.4)\n",
      "Requirement already satisfied: aiohappyeyeballs>=2.5.0 in /Users/edenmarco/.local/share/virtualenvs/documentation-helper-zmyxh5Q8/lib/python3.10/site-packages (from aiohttp<4.0.0,>=3.11.14->langchain-tavily) (2.6.1)\n",
      "Requirement already satisfied: aiosignal>=1.1.2 in /Users/edenmarco/.local/share/virtualenvs/documentation-helper-zmyxh5Q8/lib/python3.10/site-packages (from aiohttp<4.0.0,>=3.11.14->langchain-tavily) (1.4.0)\n",
      "Requirement already satisfied: async-timeout<6.0,>=4.0 in /Users/edenmarco/.local/share/virtualenvs/documentation-helper-zmyxh5Q8/lib/python3.10/site-packages (from aiohttp<4.0.0,>=3.11.14->langchain-tavily) (4.0.3)\n",
      "Requirement already satisfied: attrs>=17.3.0 in /Users/edenmarco/.local/share/virtualenvs/documentation-helper-zmyxh5Q8/lib/python3.10/site-packages (from aiohttp<4.0.0,>=3.11.14->langchain-tavily) (25.3.0)\n",
      "Requirement already satisfied: frozenlist>=1.1.1 in /Users/edenmarco/.local/share/virtualenvs/documentation-helper-zmyxh5Q8/lib/python3.10/site-packages (from aiohttp<4.0.0,>=3.11.14->langchain-tavily) (1.7.0)\n",
      "Requirement already satisfied: multidict<7.0,>=4.5 in /Users/edenmarco/.local/share/virtualenvs/documentation-helper-zmyxh5Q8/lib/python3.10/site-packages (from aiohttp<4.0.0,>=3.11.14->langchain-tavily) (6.6.3)\n",
      "Requirement already satisfied: propcache>=0.2.0 in /Users/edenmarco/.local/share/virtualenvs/documentation-helper-zmyxh5Q8/lib/python3.10/site-packages (from aiohttp<4.0.0,>=3.11.14->langchain-tavily) (0.3.2)\n",
      "Requirement already satisfied: yarl<2.0,>=1.17.0 in /Users/edenmarco/.local/share/virtualenvs/documentation-helper-zmyxh5Q8/lib/python3.10/site-packages (from aiohttp<4.0.0,>=3.11.14->langchain-tavily) (1.20.1)\n",
      "Requirement already satisfied: langchain-text-splitters<1.0.0,>=0.3.8 in /Users/edenmarco/.local/share/virtualenvs/documentation-helper-zmyxh5Q8/lib/python3.10/site-packages (from langchain<0.4.0,>=0.3.20->langchain-tavily) (0.3.8)\n",
      "Requirement already satisfied: langsmith>=0.1.17 in /Users/edenmarco/.local/share/virtualenvs/documentation-helper-zmyxh5Q8/lib/python3.10/site-packages (from langchain<0.4.0,>=0.3.20->langchain-tavily) (0.4.4)\n",
      "Requirement already satisfied: pydantic<3.0.0,>=2.7.4 in /Users/edenmarco/.local/share/virtualenvs/documentation-helper-zmyxh5Q8/lib/python3.10/site-packages (from langchain<0.4.0,>=0.3.20->langchain-tavily) (2.11.7)\n",
      "Requirement already satisfied: SQLAlchemy<3,>=1.4 in /Users/edenmarco/.local/share/virtualenvs/documentation-helper-zmyxh5Q8/lib/python3.10/site-packages (from langchain<0.4.0,>=0.3.20->langchain-tavily) (2.0.41)\n",
      "Requirement already satisfied: PyYAML>=5.3 in /Users/edenmarco/.local/share/virtualenvs/documentation-helper-zmyxh5Q8/lib/python3.10/site-packages (from langchain<0.4.0,>=0.3.20->langchain-tavily) (6.0.2)\n",
      "Requirement already satisfied: tenacity!=8.4.0,<10.0.0,>=8.1.0 in /Users/edenmarco/.local/share/virtualenvs/documentation-helper-zmyxh5Q8/lib/python3.10/site-packages (from langchain-core<0.4.0,>=0.3.15->langchain-tavily) (9.1.2)\n",
      "Requirement already satisfied: jsonpatch<2.0,>=1.33 in /Users/edenmarco/.local/share/virtualenvs/documentation-helper-zmyxh5Q8/lib/python3.10/site-packages (from langchain-core<0.4.0,>=0.3.15->langchain-tavily) (1.33)\n",
      "Requirement already satisfied: packaging<25,>=23.2 in /Users/edenmarco/.local/share/virtualenvs/documentation-helper-zmyxh5Q8/lib/python3.10/site-packages (from langchain-core<0.4.0,>=0.3.15->langchain-tavily) (24.2)\n",
      "Requirement already satisfied: typing-extensions>=4.7 in /Users/edenmarco/.local/share/virtualenvs/documentation-helper-zmyxh5Q8/lib/python3.10/site-packages (from langchain-core<0.4.0,>=0.3.15->langchain-tavily) (4.14.1)\n",
      "Requirement already satisfied: charset_normalizer<4,>=2 in /Users/edenmarco/.local/share/virtualenvs/documentation-helper-zmyxh5Q8/lib/python3.10/site-packages (from requests<3.0.0,>=2.32.3->langchain-tavily) (3.4.2)\n",
      "Requirement already satisfied: idna<4,>=2.5 in /Users/edenmarco/.local/share/virtualenvs/documentation-helper-zmyxh5Q8/lib/python3.10/site-packages (from requests<3.0.0,>=2.32.3->langchain-tavily) (3.10)\n",
      "Requirement already satisfied: urllib3<3,>=1.21.1 in /Users/edenmarco/.local/share/virtualenvs/documentation-helper-zmyxh5Q8/lib/python3.10/site-packages (from requests<3.0.0,>=2.32.3->langchain-tavily) (2.5.0)\n",
      "Requirement already satisfied: jsonpointer>=1.9 in /Users/edenmarco/.local/share/virtualenvs/documentation-helper-zmyxh5Q8/lib/python3.10/site-packages (from jsonpatch<2.0,>=1.33->langchain-core<0.4.0,>=0.3.15->langchain-tavily) (3.0.0)\n",
      "Requirement already satisfied: httpx<1,>=0.23.0 in /Users/edenmarco/.local/share/virtualenvs/documentation-helper-zmyxh5Q8/lib/python3.10/site-packages (from langsmith>=0.1.17->langchain<0.4.0,>=0.3.20->langchain-tavily) (0.28.1)\n",
      "Requirement already satisfied: orjson<4.0.0,>=3.9.14 in /Users/edenmarco/.local/share/virtualenvs/documentation-helper-zmyxh5Q8/lib/python3.10/site-packages (from langsmith>=0.1.17->langchain<0.4.0,>=0.3.20->langchain-tavily) (3.10.18)\n",
      "Requirement already satisfied: requests-toolbelt<2.0.0,>=1.0.0 in /Users/edenmarco/.local/share/virtualenvs/documentation-helper-zmyxh5Q8/lib/python3.10/site-packages (from langsmith>=0.1.17->langchain<0.4.0,>=0.3.20->langchain-tavily) (1.0.0)\n",
      "Requirement already satisfied: zstandard<0.24.0,>=0.23.0 in /Users/edenmarco/.local/share/virtualenvs/documentation-helper-zmyxh5Q8/lib/python3.10/site-packages (from langsmith>=0.1.17->langchain<0.4.0,>=0.3.20->langchain-tavily) (0.23.0)\n",
      "Requirement already satisfied: annotated-types>=0.6.0 in /Users/edenmarco/.local/share/virtualenvs/documentation-helper-zmyxh5Q8/lib/python3.10/site-packages (from pydantic<3.0.0,>=2.7.4->langchain<0.4.0,>=0.3.20->langchain-tavily) (0.7.0)\n",
      "Requirement already satisfied: pydantic-core==2.33.2 in /Users/edenmarco/.local/share/virtualenvs/documentation-helper-zmyxh5Q8/lib/python3.10/site-packages (from pydantic<3.0.0,>=2.7.4->langchain<0.4.0,>=0.3.20->langchain-tavily) (2.33.2)\n",
      "Requirement already satisfied: typing-inspection>=0.4.0 in /Users/edenmarco/.local/share/virtualenvs/documentation-helper-zmyxh5Q8/lib/python3.10/site-packages (from pydantic<3.0.0,>=2.7.4->langchain<0.4.0,>=0.3.20->langchain-tavily) (0.4.1)\n",
      "Requirement already satisfied: anyio in /Users/edenmarco/.local/share/virtualenvs/documentation-helper-zmyxh5Q8/lib/python3.10/site-packages (from httpx<1,>=0.23.0->langsmith>=0.1.17->langchain<0.4.0,>=0.3.20->langchain-tavily) (4.9.0)\n",
      "Requirement already satisfied: httpcore==1.* in /Users/edenmarco/.local/share/virtualenvs/documentation-helper-zmyxh5Q8/lib/python3.10/site-packages (from httpx<1,>=0.23.0->langsmith>=0.1.17->langchain<0.4.0,>=0.3.20->langchain-tavily) (1.0.9)\n",
      "Requirement already satisfied: h11>=0.16 in /Users/edenmarco/.local/share/virtualenvs/documentation-helper-zmyxh5Q8/lib/python3.10/site-packages (from httpcore==1.*->httpx<1,>=0.23.0->langsmith>=0.1.17->langchain<0.4.0,>=0.3.20->langchain-tavily) (0.16.0)\n",
      "Requirement already satisfied: exceptiongroup>=1.0.2 in /Users/edenmarco/.local/share/virtualenvs/documentation-helper-zmyxh5Q8/lib/python3.10/site-packages (from anyio->httpx<1,>=0.23.0->langsmith>=0.1.17->langchain<0.4.0,>=0.3.20->langchain-tavily) (1.3.0)\n",
      "Requirement already satisfied: sniffio>=1.1 in /Users/edenmarco/.local/share/virtualenvs/documentation-helper-zmyxh5Q8/lib/python3.10/site-packages (from anyio->httpx<1,>=0.23.0->langsmith>=0.1.17->langchain<0.4.0,>=0.3.20->langchain-tavily) (1.3.1)\n",
      "\n",
      "\u001b[1m[\u001b[0m\u001b[34;49mnotice\u001b[0m\u001b[1;39;49m]\u001b[0m\u001b[39;49m A new release of pip is available: \u001b[0m\u001b[31;49m23.2.1\u001b[0m\u001b[39;49m -> \u001b[0m\u001b[32;49m25.1.1\u001b[0m\n",
      "\u001b[1m[\u001b[0m\u001b[34;49mnotice\u001b[0m\u001b[1;39;49m]\u001b[0m\u001b[39;49m To update, run: \u001b[0m\u001b[32;49mpip install --upgrade pip\u001b[0m\n",
      "Note: you may need to restart the kernel to use updated packages.\n",
      "Requirement already satisfied: rich in /Users/edenmarco/.local/share/virtualenvs/documentation-helper-zmyxh5Q8/lib/python3.10/site-packages (14.0.0)\n",
      "Requirement already satisfied: pandas in /Users/edenmarco/.local/share/virtualenvs/documentation-helper-zmyxh5Q8/lib/python3.10/site-packages (2.3.1)\n",
      "\u001b[31mERROR: Could not find a version that satisfies the requirement json (from versions: none)\u001b[0m\u001b[31m\n",
      "\u001b[0m\u001b[31mERROR: No matching distribution found for json\u001b[0m\u001b[31m\n",
      "\u001b[0m\n",
      "\u001b[1m[\u001b[0m\u001b[34;49mnotice\u001b[0m\u001b[1;39;49m]\u001b[0m\u001b[39;49m A new release of pip is available: \u001b[0m\u001b[31;49m23.2.1\u001b[0m\u001b[39;49m -> \u001b[0m\u001b[32;49m25.1.1\u001b[0m\n",
      "\u001b[1m[\u001b[0m\u001b[34;49mnotice\u001b[0m\u001b[1;39;49m]\u001b[0m\u001b[39;49m To update, run: \u001b[0m\u001b[32;49mpip install --upgrade pip\u001b[0m\n",
      "Note: you may need to restart the kernel to use updated packages.\n"
     ]
    }
   ],
   "source": [
    "# Install required packages\n",
    "%pip install langchain-tavily certifi\n",
    "\n",
    "# For pretty printing and visualization\n",
    "%pip install rich pandas"
   ]
  },
  {
   "cell_type": "code",
   "metadata": {},
   "outputs": [],
   "source": "import os\nimport ssl\nimport json\nfrom typing import Any, Dict, List\n\nimport certifi\nfrom langchain_tavily import TavilyCrawl\nfrom rich.console import Console\nfrom rich.panel import Panel\nfrom rich.table import Table\nfrom rich.json import JSON\n\n# Configure SSL context\nssl_context = ssl.create_default_context(cafile=certifi.where())\nos.environ[\"SSL_CERT_FILE\"] = certifi.where()\nos.environ[\"REQUESTS_CA_BUNDLE\"] = certifi.where()\n\n# Initialize rich console for pretty printing\nconsole = Console()\n\nprint(\"All imports successful!\")"
  },
  {
   "cell_type": "markdown",
   "metadata": {
    "vscode": {
     "languageId": "raw"
    }
   },
   "source": [
    "## API Key Setup\n",
    "\n",
    "You'll need a Tavily API key to use TavilyCrawl. Get yours at [https://app.tavily.com/home](https://app.tavily.com/home).\n",
    "\n",
    "Set environment variable `TAVILY_API_KEY`\n"
   ]
  },
  {
   "cell_type": "code",
   "metadata": {},
   "outputs": [],
   "source": "# Set your Tavily API key here\nimport getpass\n\n# For Google Colab, you can use getpass for secure input\nif 'TAVILY_API_KEY' not in os.environ:\n    os.environ['TAVILY_API_KEY'] = getpass.getpass('Enter your Tavily API key: ')\n\n# Alternative: Set directly (uncomment and add your key)\n# os.environ[\"TAVILY_API_KEY\"] = \"your_tavily_api_key_here\"\n\nprint(\"API key set successfully!\")"
  },
  {
   "cell_type": "markdown",
   "metadata": {
    "vscode": {
     "languageId": "raw"
    }
   },
   "source": "## Initialize TavilyCrawl\n\nInitialize TavilyCrawl and set up target URL for demonstration.",
   "outputs": []
  },
  {
   "cell_type": "code",
   "metadata": {},
   "outputs": [],
   "source": "# Initialize TavilyCrawl\ntavily_crawl = TavilyCrawl()\n\n# Target URL: LangChain Documentation\ntarget_url = \"https://python.langchain.com/\"\n\nconsole.print(Panel.fit(\n    f\"Target Website: {target_url}\\nCrawler: TavilyCrawl\",\n    title=\"Demo Setup\",\n    border_style=\"bright_blue\"\n))\n\nprint(\"TavilyCrawl initialized successfully\")"
  },
  {
   "cell_type": "markdown",
   "metadata": {
    "vscode": {
     "languageId": "raw"
    }
   },
   "source": "## Demo 1: Crawl Without Instructions\n\nCrawl without specific instructions to show baseline behavior on the LangChain documentation.",
   "outputs": []
  },
  {
   "cell_type": "code",
   "metadata": {},
   "outputs": [],
   "source": "# Demo 1: Crawl without instructions\nconsole.print(Panel.fit(\n    f\"Target: {target_url}\\nInstructions: None (baseline crawl)\\nMax Depth: 1\\nExtract Depth: advanced\",\n    title=\"Demo 1: Crawl Without Instructions\",\n    border_style=\"blue\"\n))\n\nconsole.print(\"Running TavilyCrawl without instructions...\", style=\"blue\")\n\n# Basic crawl without instructions\nbasic_result = tavily_crawl.invoke({\n    \"url\": target_url,\n    \"max_depth\": 1,\n    \"extract_depth\": \"advanced\"\n})\n\n# Show raw output immediately\nconsole.print(basic_result)\n\n# Extract results for analysis\nbasic_results = basic_result.get(\"results\", [])"
  },
  {
   "cell_type": "markdown",
   "metadata": {},
   "source": [
    "# Now display the formatted results nicely\n"
   ]
  },
  {
   "cell_type": "code",
   "metadata": {},
   "outputs": [],
   "source": "console.print(f\"\\nResults Without Instructions: {len(basic_results)} pages\", style=\"cyan\")\nconsole.print(\"   Mix of all content types from LangChain docs\")\nconsole.print(\"   No filtering - everything from the crawled sections\")\nconsole.print(\"   Requires manual work to find specific content\")\n\nconsole.print(\"\\nSample Results from Basic Crawl (No Filtering):\\n\", style=\"cyan\")\n\nfor i, result in enumerate(basic_results[:3], 1):  # Show first 3 results\n    url = result.get(\"url\", \"No URL\")\n    content = result.get(\"raw_content\", \"No content\")[:150] + \"...\"\n    \n    panel_content = f\"\"\"URL: {url}\n\nContent Preview:\n{content}\"\"\"\n    \n    console.print(Panel(\n        panel_content,\n        title=f\"{i}. {url}\",\n        border_style=\"blue\"\n    ))\n    print()\n\nconsole.print(f\"... and {len(basic_results) - 3} more mixed results\", style=\"italic cyan\")\nconsole.print(\"Note: Mixed content types - guides, integrations, concepts, etc.\", style=\"cyan\")"
  },
  {
   "cell_type": "markdown",
   "metadata": {},
   "source": "## Demo 2: Crawl With Instructions\n\nUse specific instructions to improve the quality and relevance of crawl results. Instructions can dramatically improve targeting and filtering.",
   "outputs": []
  },
  {
   "cell_type": "code",
   "metadata": {},
   "outputs": [],
   "source": "instructions = \"Find all pages about ai agents\"\n\nconsole.print(Panel.fit(\n    f\"Target: {target_url} (same as Demo 1)\\nInstructions: {instructions}\\nType: Specific, action-oriented\\nMax Depth: 3\\nExtract Depth: advanced\",\n    title=\"Demo 2: Crawl With Instructions\", \n    border_style=\"green\"\n))\n\nconsole.print(\"Starting crawl with instructions...\", style=\"green\")\nconsole.print(\"Instructions will guide the AI to target specific content\", style=\"italic\")"
  },
  {
   "cell_type": "code",
   "metadata": {},
   "outputs": [],
   "source": "# Execute the crawl with instructions\nresult_with_instructions = tavily_crawl.invoke({\n    \"url\": target_url,\n    \"instructions\": instructions,\n    \"max_depth\": 3,\n    \"extract_depth\": \"advanced\"\n})\n\n# Show raw output immediately\nconsole.print(\"\\nRaw TavilyCrawl Output:\", style=\"yellow\")\nconsole.print(result_with_instructions)\n\nconsole.print(\"\\nCrawl with instructions completed\", style=\"green\")\n\n# Show the results of instruction-based filtering\nresults_with_instructions = result_with_instructions.get(\"results\", [])"
  },
  {
   "cell_type": "code",
   "metadata": {},
   "outputs": [],
   "source": "# Display the targeted agent documentation found\nconsole.print(\"\\nLangChain Agent Documentation Found:\\n\", style=\"green\")\n\nfor i, result in enumerate(results_with_instructions, 1):\n    url = result.get(\"url\", \"No URL\")\n    content = result.get(\"raw_content\", \"No content\")[:200] + \"...\"\n    \n    panel_content = f\"\"\"URL: {url}\n\nContent Preview:\n{content}\"\"\"\n    \n    console.print(Panel(\n        panel_content,\n        title=f\"{i}. {url}\",\n        border_style=\"green\"\n    ))\n    print()\n\nconsole.print(\"Note: All results are specifically about agents in LangChain\", style=\"green\")"
  },
  {
   "cell_type": "markdown",
   "metadata": {},
   "source": "## Comparison of Both Approaches\n\nCompare both approaches to understand the impact of instruction quality.",
   "outputs": []
  },
  {
   "cell_type": "code",
   "metadata": {},
   "outputs": [],
   "source": "# Create comparison table\ncomparison_table = Table(title=\"TavilyCrawl: Instruction Quality Comparison\")\ncomparison_table.add_column(\"Approach\", style=\"cyan\", no_wrap=True)\ncomparison_table.add_column(\"Instructions\", style=\"yellow\")\ncomparison_table.add_column(\"Pages Found\", style=\"blue\")\ncomparison_table.add_column(\"Content Quality\", style=\"green\")\ncomparison_table.add_column(\"Usefulness\", style=\"red\")\n\ncomparison_table.add_row(\n    \"No Instructions\",\n    \"None (baseline)\",\n    f\"{len(basic_results)}\",\n    \"Mixed (all types)\",\n    \"Low (requires filtering)\"\n)\n\ncomparison_table.add_row(\n    \"With Instructions\",\n    instructions,\n    f\"{len(results_with_instructions)}\",\n    \"Highly targeted\",\n    \"High (ready to use)\"\n)\n\nconsole.print(comparison_table)\n\nconsole.print(\"\\nKey Observations:\", style=\"blue\")\nconsole.print(\"   No instructions return everything, requiring manual filtering\")\nconsole.print(\"   Instructions provide highly targeted, ready-to-use results\")\nconsole.print(\"   Best practice: Use specific, action-oriented instructions\")\n\nconsole.print(f\"\\nEfficiency with Instructions:\", style=\"green\")\nconsole.print(f\"   Filtering efficiency: {((len(basic_results) - len(results_with_instructions)) / len(basic_results) * 100):.1f}% reduction in noise\")\nconsole.print(\"   Time saved: No manual post-processing required\")\nconsole.print(\"   AI-powered: Intelligent path selection and content filtering\")"
  }
 ],
 "metadata": {
  "kernelspec": {
   "display_name": "documentation-helper-zmyxh5Q8",
   "language": "python",
   "name": "python3"
  },
  "language_info": {
   "codemirror_mode": {
    "name": "ipython",
    "version": 3
   },
   "file_extension": ".py",
   "mimetype": "text/x-python",
   "name": "python",
   "nbconvert_exporter": "python",
   "pygments_lexer": "ipython3",
   "version": "3.10.11"
  }
 },
 "nbformat": 4,
 "nbformat_minor": 2
}