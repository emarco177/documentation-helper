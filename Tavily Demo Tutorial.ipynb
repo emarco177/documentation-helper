{
  "cells": [
    {
      "cell_type": "markdown",
      "metadata": {
        "id": "MhwXdmHllHtV"
      },
      "source": [
        "# 🗺️ TavilyMap & TavilyExtract Tutorial\n",
        "\n",
        "> **📚 Part of the LangChain Course: Building AI Agents & RAG Apps**  \n",
        "> [🎓 Get the full course](https://www.udemy.com/course/langchain/?referralCode=D981B8213164A3EA91AC)\n",
        "\n",
        "\n",
        "This notebook demonstrates two powerful tools from Tavily AI:\n",
        "- **TavilyMap**: Automatically discovers and maps website structures\n",
        "- **TavilyExtract**: Extracts clean, structured content from web pages\n",
        "\n",
        "Perfect for documentation scraping, research, and content extraction! 🚀\n",
        "\n",
        "---\n"
      ]
    },
    {
      "cell_type": "markdown",
      "metadata": {
        "id": "znycq-qvlG1R"
      },
      "source": [
        "## 📦 Setup & Installation\n",
        "\n",
        "First, let's install the required packages and set up our environment.\n"
      ]
    },
    {
      "cell_type": "code",
      "execution_count": null,
      "metadata": {
        "colab": {
          "base_uri": "https://localhost:8080/"
        },
        "id": "4rOvqccCKFpU",
        "outputId": "744a63dc-7970-4f82-d5b7-11209d95e3f8"
      },
      "outputs": [],
      "source": [
        "# Install required packages\n",
        "!pip install langchain-tavily certifi\n",
        "\n",
        "# For pretty printing and visualization\n",
        "!pip install rich pandas\n"
      ]
    },
    {
      "cell_type": "code",
      "execution_count": 21,
      "metadata": {
        "colab": {
          "base_uri": "https://localhost:8080/"
        },
        "id": "rlIwFtP0KFpU",
        "outputId": "a0b47c17-8469-46b8-d0aa-54217cbb86ff"
      },
      "outputs": [
        {
          "name": "stdout",
          "output_type": "stream",
          "text": [
            "✅ All imports successful!\n"
          ]
        }
      ],
      "source": [
        "import asyncio\n",
        "import os\n",
        "import ssl\n",
        "from typing import Any, Dict, List\n",
        "\n",
        "import certifi\n",
        "from langchain_tavily import TavilyExtract, TavilyMap\n",
        "from rich.console import Console\n",
        "from rich.panel import Panel\n",
        "\n",
        "# Configure SSL context\n",
        "ssl_context = ssl.create_default_context(cafile=certifi.where())\n",
        "os.environ[\"SSL_CERT_FILE\"] = certifi.where()\n",
        "os.environ[\"REQUESTS_CA_BUNDLE\"] = certifi.where()\n",
        "\n",
        "# Initialize rich console for pretty printing\n",
        "console = Console()\n",
        "\n",
        "\n",
        "print(\"✅ All imports successful!\")\n"
      ]
    },
    {
      "cell_type": "markdown",
      "metadata": {
        "id": "EjtXG-Y3lVNi"
      },
      "source": [
        "## 🔑 API Key Setup\n",
        "\n",
        "You'll need a Tavily API key to use these tools. Get yours at [tavily.com](https://app.tavily.com/home).\n",
        "\n",
        "Set environment variable `TAVILY_API_KEY`\n"
      ]
    },
    {
      "cell_type": "code",
      "execution_count": 28,
      "metadata": {
        "id": "C3N8qUKSKFpU"
      },
      "outputs": [],
      "source": [
        "\n",
        "\n",
        "# Set directly (uncomment and add your key)\n",
        "# tavily_api_key = \"your_tavily_api_key_here\"\n",
        "\n",
        "os.environ[\"TAVILY_API_KEY\"] = \"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\""
      ]
    },
    {
      "cell_type": "markdown",
      "metadata": {
        "id": "7hPhgHXkl937"
      },
      "source": [
        "## 🗺️ TavilyMap: Website Structure Discovery\n",
        "\n",
        "TavilyMap automatically discovers and maps website structures by crawling through links. It's perfect for:\n",
        "- Documentation sites\n",
        "- Blog archives\n",
        "- Knowledge bases\n",
        "- Any structured website\n",
        "\n",
        "### Key Parameters:\n",
        "- `max_depth`: How deep to crawl (default: 3)\n",
        "- `max_breadth`: How many links per page (default: 10)\n",
        "- `max_pages`: Maximum total pages to discover (default: 100)\n"
      ]
    },
    {
      "cell_type": "code",
      "execution_count": null,
      "metadata": {
        "colab": {
          "base_uri": "https://localhost:8080/"
        },
        "id": "DbAVGf-jKFpU",
        "outputId": "a1c161ef-1ec9-4849-beaa-8c67fa8a32ff"
      },
      "outputs": [],
      "source": [
        "# Initialize TavilyMap with custom settings\n",
        "tavily_map = TavilyMap(\n",
        "    max_depth=3,        # Crawl up to 3 levels deep\n",
        "    max_breadth=15,     # Follow up to 15 links per page\n",
        "    max_pages=50        # Limit to 50 total pages for demo\n",
        ")\n",
        "\n",
        "print(\"✅ TavilyMap initialized successfully!\")\n"
      ]
    },
    {
      "cell_type": "markdown",
      "metadata": {
        "id": "l1GJ0FPKmBhz"
      },
      "source": [
        "### 📊 Demo: Mapping a Documentation Site\n",
        "\n",
        "Let's map the structure of a popular documentation site. We'll use the FastAPI documentation as an example.\n"
      ]
    },
    {
      "cell_type": "code",
      "execution_count": 24,
      "metadata": {
        "colab": {
          "base_uri": "https://localhost:8080/",
          "height": 918
        },
        "id": "bh_ZAl7MKFpV",
        "outputId": "85982542-7b66-48af-fa4d-8f495b701281"
      },
      "outputs": [
        {
          "data": {
            "text/html": [
              "<pre style=\"white-space:pre;overflow-x:auto;line-height:normal;font-family:Menlo,'DejaVu Sans Mono',consolas,'Courier New',monospace\"><span style=\"color: #000080; text-decoration-color: #000080; font-weight: bold\">🔍 Mapping website structure for: </span><span style=\"color: #0000ff; text-decoration-color: #0000ff; text-decoration: underline\">https://python.langchain.com/docs/introduction/</span>\n",
              "</pre>\n"
            ],
            "text/plain": [
              "\u001b[1;34m🔍 Mapping website structure for: \u001b[0m\u001b[4;94mhttps://python.langchain.com/docs/introduction/\u001b[0m\n"
            ]
          },
          "metadata": {},
          "output_type": "display_data"
        },
        {
          "data": {
            "text/html": [
              "<pre style=\"white-space:pre;overflow-x:auto;line-height:normal;font-family:Menlo,'DejaVu Sans Mono',consolas,'Courier New',monospace\">This may take a moment<span style=\"color: #808000; text-decoration-color: #808000\">...</span>\n",
              "</pre>\n"
            ],
            "text/plain": [
              "This may take a moment\u001b[33m...\u001b[0m\n"
            ]
          },
          "metadata": {},
          "output_type": "display_data"
        },
        {
          "data": {
            "text/html": [
              "<pre style=\"white-space:pre;overflow-x:auto;line-height:normal;font-family:Menlo,'DejaVu Sans Mono',consolas,'Courier New',monospace\">\n",
              "<span style=\"color: #008000; text-decoration-color: #008000; font-weight: bold\">✅ Successfully mapped </span><span style=\"color: #008080; text-decoration-color: #008080; font-weight: bold\">381</span><span style=\"color: #008000; text-decoration-color: #008000; font-weight: bold\"> URLs!</span>\n",
              "</pre>\n"
            ],
            "text/plain": [
              "\n",
              "\u001b[1;32m✅ Successfully mapped \u001b[0m\u001b[1;36m381\u001b[0m\u001b[1;32m URLs!\u001b[0m\n"
            ]
          },
          "metadata": {},
          "output_type": "display_data"
        },
        {
          "data": {
            "text/html": [
              "<pre style=\"white-space:pre;overflow-x:auto;line-height:normal;font-family:Menlo,'DejaVu Sans Mono',consolas,'Courier New',monospace\">\n",
              "<span style=\"color: #808000; text-decoration-color: #808000; font-weight: bold\">📋 First </span><span style=\"color: #008080; text-decoration-color: #008080; font-weight: bold\">50</span><span style=\"color: #808000; text-decoration-color: #808000; font-weight: bold\"> discovered URLs:</span>\n",
              "</pre>\n"
            ],
            "text/plain": [
              "\n",
              "\u001b[1;33m📋 First \u001b[0m\u001b[1;36m50\u001b[0m\u001b[1;33m discovered URLs:\u001b[0m\n"
            ]
          },
          "metadata": {},
          "output_type": "display_data"
        },
        {
          "data": {
            "text/html": [
              "<pre style=\"white-space:pre;overflow-x:auto;line-height:normal;font-family:Menlo,'DejaVu Sans Mono',consolas,'Courier New',monospace\">   <span style=\"color: #008080; text-decoration-color: #008080; font-weight: bold\">1</span>. <span style=\"color: #0000ff; text-decoration-color: #0000ff; text-decoration: underline\">https://python.langchain.com/docs/introduction</span>\n",
              "</pre>\n"
            ],
            "text/plain": [
              "   \u001b[1;36m1\u001b[0m. \u001b[4;94mhttps://python.langchain.com/docs/introduction\u001b[0m\n"
            ]
          },
          "metadata": {},
          "output_type": "display_data"
        },
        {
          "data": {
            "text/html": [
              "<pre style=\"white-space:pre;overflow-x:auto;line-height:normal;font-family:Menlo,'DejaVu Sans Mono',consolas,'Courier New',monospace\">   <span style=\"color: #008080; text-decoration-color: #008080; font-weight: bold\">2</span>. <span style=\"color: #0000ff; text-decoration-color: #0000ff; text-decoration: underline\">https://python.langchain.com/docs/introduction#__docusaurus_skipToContent_fallback</span>\n",
              "</pre>\n"
            ],
            "text/plain": [
              "   \u001b[1;36m2\u001b[0m. \u001b[4;94mhttps://python.langchain.com/docs/introduction#__docusaurus_skipToContent_fallback\u001b[0m\n"
            ]
          },
          "metadata": {},
          "output_type": "display_data"
        },
        {
          "data": {
            "text/html": [
              "<pre style=\"white-space:pre;overflow-x:auto;line-height:normal;font-family:Menlo,'DejaVu Sans Mono',consolas,'Courier New',monospace\">   <span style=\"color: #008080; text-decoration-color: #008080; font-weight: bold\">3</span>. <span style=\"color: #0000ff; text-decoration-color: #0000ff; text-decoration: underline\">https://python.langchain.com/docs/introduction#contributing</span>\n",
              "</pre>\n"
            ],
            "text/plain": [
              "   \u001b[1;36m3\u001b[0m. \u001b[4;94mhttps://python.langchain.com/docs/introduction#contributing\u001b[0m\n"
            ]
          },
          "metadata": {},
          "output_type": "display_data"
        },
        {
          "data": {
            "text/html": [
              "<pre style=\"white-space:pre;overflow-x:auto;line-height:normal;font-family:Menlo,'DejaVu Sans Mono',consolas,'Courier New',monospace\">   <span style=\"color: #008080; text-decoration-color: #008080; font-weight: bold\">4</span>. <span style=\"color: #0000ff; text-decoration-color: #0000ff; text-decoration: underline\">https://python.langchain.com/docs/tutorials</span>\n",
              "</pre>\n"
            ],
            "text/plain": [
              "   \u001b[1;36m4\u001b[0m. \u001b[4;94mhttps://python.langchain.com/docs/tutorials\u001b[0m\n"
            ]
          },
          "metadata": {},
          "output_type": "display_data"
        },
        {
          "data": {
            "text/html": [
              "<pre style=\"white-space:pre;overflow-x:auto;line-height:normal;font-family:Menlo,'DejaVu Sans Mono',consolas,'Courier New',monospace\">   <span style=\"color: #008080; text-decoration-color: #008080; font-weight: bold\">5</span>. <span style=\"color: #0000ff; text-decoration-color: #0000ff; text-decoration: underline\">https://python.langchain.com/api_reference</span>\n",
              "</pre>\n"
            ],
            "text/plain": [
              "   \u001b[1;36m5\u001b[0m. \u001b[4;94mhttps://python.langchain.com/api_reference\u001b[0m\n"
            ]
          },
          "metadata": {},
          "output_type": "display_data"
        },
        {
          "data": {
            "text/html": [
              "<pre style=\"white-space:pre;overflow-x:auto;line-height:normal;font-family:Menlo,'DejaVu Sans Mono',consolas,'Courier New',monospace\">   <span style=\"color: #008080; text-decoration-color: #008080; font-weight: bold\">6</span>. <span style=\"color: #0000ff; text-decoration-color: #0000ff; text-decoration: underline\">https://python.langchain.com/docs/how_to</span>\n",
              "</pre>\n"
            ],
            "text/plain": [
              "   \u001b[1;36m6\u001b[0m. \u001b[4;94mhttps://python.langchain.com/docs/how_to\u001b[0m\n"
            ]
          },
          "metadata": {},
          "output_type": "display_data"
        },
        {
          "data": {
            "text/html": [
              "<pre style=\"white-space:pre;overflow-x:auto;line-height:normal;font-family:Menlo,'DejaVu Sans Mono',consolas,'Courier New',monospace\">   <span style=\"color: #008080; text-decoration-color: #008080; font-weight: bold\">7</span>. <span style=\"color: #0000ff; text-decoration-color: #0000ff; text-decoration: underline\">https://python.langchain.com/search.html</span>\n",
              "</pre>\n"
            ],
            "text/plain": [
              "   \u001b[1;36m7\u001b[0m. \u001b[4;94mhttps://python.langchain.com/search.html\u001b[0m\n"
            ]
          },
          "metadata": {},
          "output_type": "display_data"
        },
        {
          "data": {
            "text/html": [
              "<pre style=\"white-space:pre;overflow-x:auto;line-height:normal;font-family:Menlo,'DejaVu Sans Mono',consolas,'Courier New',monospace\">   <span style=\"color: #008080; text-decoration-color: #008080; font-weight: bold\">8</span>. <span style=\"color: #0000ff; text-decoration-color: #0000ff; text-decoration: underline\">https://python.langchain.com/docs/people</span>\n",
              "</pre>\n"
            ],
            "text/plain": [
              "   \u001b[1;36m8\u001b[0m. \u001b[4;94mhttps://python.langchain.com/docs/people\u001b[0m\n"
            ]
          },
          "metadata": {},
          "output_type": "display_data"
        },
        {
          "data": {
            "text/html": [
              "<pre style=\"white-space:pre;overflow-x:auto;line-height:normal;font-family:Menlo,'DejaVu Sans Mono',consolas,'Courier New',monospace\">   <span style=\"color: #008080; text-decoration-color: #008080; font-weight: bold\">9</span>. <span style=\"color: #0000ff; text-decoration-color: #0000ff; text-decoration: underline\">https://python.langchain.com/index.html</span>\n",
              "</pre>\n"
            ],
            "text/plain": [
              "   \u001b[1;36m9\u001b[0m. \u001b[4;94mhttps://python.langchain.com/index.html\u001b[0m\n"
            ]
          },
          "metadata": {},
          "output_type": "display_data"
        },
        {
          "data": {
            "text/html": [
              "<pre style=\"white-space:pre;overflow-x:auto;line-height:normal;font-family:Menlo,'DejaVu Sans Mono',consolas,'Courier New',monospace\">  <span style=\"color: #008080; text-decoration-color: #008080; font-weight: bold\">10</span>. <span style=\"color: #0000ff; text-decoration-color: #0000ff; text-decoration: underline\">https://python.langchain.com/404.html</span>\n",
              "</pre>\n"
            ],
            "text/plain": [
              "  \u001b[1;36m10\u001b[0m. \u001b[4;94mhttps://python.langchain.com/404.html\u001b[0m\n"
            ]
          },
          "metadata": {},
          "output_type": "display_data"
        },
        {
          "data": {
            "text/html": [
              "<pre style=\"white-space:pre;overflow-x:auto;line-height:normal;font-family:Menlo,'DejaVu Sans Mono',consolas,'Courier New',monospace\">  <span style=\"color: #008080; text-decoration-color: #008080; font-weight: bold\">11</span>. <span style=\"color: #0000ff; text-decoration-color: #0000ff; text-decoration: underline\">https://python.langchain.com/docs/security</span>\n",
              "</pre>\n"
            ],
            "text/plain": [
              "  \u001b[1;36m11\u001b[0m. \u001b[4;94mhttps://python.langchain.com/docs/security\u001b[0m\n"
            ]
          },
          "metadata": {},
          "output_type": "display_data"
        },
        {
          "data": {
            "text/html": [
              "<pre style=\"white-space:pre;overflow-x:auto;line-height:normal;font-family:Menlo,'DejaVu Sans Mono',consolas,'Courier New',monospace\">  <span style=\"color: #008080; text-decoration-color: #008080; font-weight: bold\">12</span>. <span style=\"color: #0000ff; text-decoration-color: #0000ff; text-decoration: underline\">https://python.langchain.com/docs/how_to#document-loaders</span>\n",
              "</pre>\n"
            ],
            "text/plain": [
              "  \u001b[1;36m12\u001b[0m. \u001b[4;94mhttps://python.langchain.com/docs/how_to#document-loaders\u001b[0m\n"
            ]
          },
          "metadata": {},
          "output_type": "display_data"
        },
        {
          "data": {
            "text/html": [
              "<pre style=\"white-space:pre;overflow-x:auto;line-height:normal;font-family:Menlo,'DejaVu Sans Mono',consolas,'Courier New',monospace\">  <span style=\"color: #008080; text-decoration-color: #008080; font-weight: bold\">13</span>. <span style=\"color: #0000ff; text-decoration-color: #0000ff; text-decoration: underline\">https://python.langchain.com/docs/contributing</span>\n",
              "</pre>\n"
            ],
            "text/plain": [
              "  \u001b[1;36m13\u001b[0m. \u001b[4;94mhttps://python.langchain.com/docs/contributing\u001b[0m\n"
            ]
          },
          "metadata": {},
          "output_type": "display_data"
        },
        {
          "data": {
            "text/html": [
              "<pre style=\"white-space:pre;overflow-x:auto;line-height:normal;font-family:Menlo,'DejaVu Sans Mono',consolas,'Courier New',monospace\">  <span style=\"color: #008080; text-decoration-color: #008080; font-weight: bold\">14</span>. <span style=\"color: #0000ff; text-decoration-color: #0000ff; text-decoration: underline\">https://python.langchain.com/docs/how_to#vector-stores</span>\n",
              "</pre>\n"
            ],
            "text/plain": [
              "  \u001b[1;36m14\u001b[0m. \u001b[4;94mhttps://python.langchain.com/docs/how_to#vector-stores\u001b[0m\n"
            ]
          },
          "metadata": {},
          "output_type": "display_data"
        },
        {
          "data": {
            "text/html": [
              "<pre style=\"white-space:pre;overflow-x:auto;line-height:normal;font-family:Menlo,'DejaVu Sans Mono',consolas,'Courier New',monospace\">  <span style=\"color: #008080; text-decoration-color: #008080; font-weight: bold\">15</span>. <span style=\"color: #0000ff; text-decoration-color: #0000ff; text-decoration: underline\">https://python.langchain.com/docs/how_to#chat-models</span>\n",
              "</pre>\n"
            ],
            "text/plain": [
              "  \u001b[1;36m15\u001b[0m. \u001b[4;94mhttps://python.langchain.com/docs/how_to#chat-models\u001b[0m\n"
            ]
          },
          "metadata": {},
          "output_type": "display_data"
        },
        {
          "data": {
            "text/html": [
              "<pre style=\"white-space:pre;overflow-x:auto;line-height:normal;font-family:Menlo,'DejaVu Sans Mono',consolas,'Courier New',monospace\">  <span style=\"color: #008080; text-decoration-color: #008080; font-weight: bold\">16</span>. <span style=\"color: #0000ff; text-decoration-color: #0000ff; text-decoration: underline\">https://python.langchain.com/docs/concepts</span>\n",
              "</pre>\n"
            ],
            "text/plain": [
              "  \u001b[1;36m16\u001b[0m. \u001b[4;94mhttps://python.langchain.com/docs/concepts\u001b[0m\n"
            ]
          },
          "metadata": {},
          "output_type": "display_data"
        },
        {
          "data": {
            "text/html": [
              "<pre style=\"white-space:pre;overflow-x:auto;line-height:normal;font-family:Menlo,'DejaVu Sans Mono',consolas,'Courier New',monospace\">  <span style=\"color: #008080; text-decoration-color: #008080; font-weight: bold\">17</span>. <span style=\"color: #0000ff; text-decoration-color: #0000ff; text-decoration: underline\">https://python.langchain.com/openai/index.html</span>\n",
              "</pre>\n"
            ],
            "text/plain": [
              "  \u001b[1;36m17\u001b[0m. \u001b[4;94mhttps://python.langchain.com/openai/index.html\u001b[0m\n"
            ]
          },
          "metadata": {},
          "output_type": "display_data"
        },
        {
          "data": {
            "text/html": [
              "<pre style=\"white-space:pre;overflow-x:auto;line-height:normal;font-family:Menlo,'DejaVu Sans Mono',consolas,'Courier New',monospace\">  <span style=\"color: #008080; text-decoration-color: #008080; font-weight: bold\">18</span>. <span style=\"color: #0000ff; text-decoration-color: #0000ff; text-decoration: underline\">https://python.langchain.com/docs/how_to/document_loader_directory</span>\n",
              "</pre>\n"
            ],
            "text/plain": [
              "  \u001b[1;36m18\u001b[0m. \u001b[4;94mhttps://python.langchain.com/docs/how_to/document_loader_directory\u001b[0m\n"
            ]
          },
          "metadata": {},
          "output_type": "display_data"
        },
        {
          "data": {
            "text/html": [
              "<pre style=\"white-space:pre;overflow-x:auto;line-height:normal;font-family:Menlo,'DejaVu Sans Mono',consolas,'Courier New',monospace\">  <span style=\"color: #008080; text-decoration-color: #008080; font-weight: bold\">19</span>. <span style=\"color: #0000ff; text-decoration-color: #0000ff; text-decoration: underline\">https://python.langchain.com/cerebras/index.html</span>\n",
              "</pre>\n"
            ],
            "text/plain": [
              "  \u001b[1;36m19\u001b[0m. \u001b[4;94mhttps://python.langchain.com/cerebras/index.html\u001b[0m\n"
            ]
          },
          "metadata": {},
          "output_type": "display_data"
        },
        {
          "data": {
            "text/html": [
              "<pre style=\"white-space:pre;overflow-x:auto;line-height:normal;font-family:Menlo,'DejaVu Sans Mono',consolas,'Courier New',monospace\">  <span style=\"color: #008080; text-decoration-color: #008080; font-weight: bold\">20</span>. <span style=\"color: #0000ff; text-decoration-color: #0000ff; text-decoration: underline\">https://python.langchain.com/postgres/index.html</span>\n",
              "</pre>\n"
            ],
            "text/plain": [
              "  \u001b[1;36m20\u001b[0m. \u001b[4;94mhttps://python.langchain.com/postgres/index.html\u001b[0m\n"
            ]
          },
          "metadata": {},
          "output_type": "display_data"
        },
        {
          "data": {
            "text/html": [
              "<pre style=\"white-space:pre;overflow-x:auto;line-height:normal;font-family:Menlo,'DejaVu Sans Mono',consolas,'Courier New',monospace\">  <span style=\"color: #008080; text-decoration-color: #008080; font-weight: bold\">21</span>. <span style=\"color: #0000ff; text-decoration-color: #0000ff; text-decoration: underline\">https://python.langchain.com/docs/how_to/output_parser_string</span>\n",
              "</pre>\n"
            ],
            "text/plain": [
              "  \u001b[1;36m21\u001b[0m. \u001b[4;94mhttps://python.langchain.com/docs/how_to/output_parser_string\u001b[0m\n"
            ]
          },
          "metadata": {},
          "output_type": "display_data"
        },
        {
          "data": {
            "text/html": [
              "<pre style=\"white-space:pre;overflow-x:auto;line-height:normal;font-family:Menlo,'DejaVu Sans Mono',consolas,'Courier New',monospace\">  <span style=\"color: #008080; text-decoration-color: #008080; font-weight: bold\">22</span>. <span style=\"color: #0000ff; text-decoration-color: #0000ff; text-decoration: underline\">https://python.langchain.com/docs/how_to/parallel</span>\n",
              "</pre>\n"
            ],
            "text/plain": [
              "  \u001b[1;36m22\u001b[0m. \u001b[4;94mhttps://python.langchain.com/docs/how_to/parallel\u001b[0m\n"
            ]
          },
          "metadata": {},
          "output_type": "display_data"
        },
        {
          "data": {
            "text/html": [
              "<pre style=\"white-space:pre;overflow-x:auto;line-height:normal;font-family:Menlo,'DejaVu Sans Mono',consolas,'Courier New',monospace\">  <span style=\"color: #008080; text-decoration-color: #008080; font-weight: bold\">23</span>. <span style=\"color: #0000ff; text-decoration-color: #0000ff; text-decoration: underline\">https://python.langchain.com/docs/how_to/extraction_examples</span>\n",
              "</pre>\n"
            ],
            "text/plain": [
              "  \u001b[1;36m23\u001b[0m. \u001b[4;94mhttps://python.langchain.com/docs/how_to/extraction_examples\u001b[0m\n"
            ]
          },
          "metadata": {},
          "output_type": "display_data"
        },
        {
          "data": {
            "text/html": [
              "<pre style=\"white-space:pre;overflow-x:auto;line-height:normal;font-family:Menlo,'DejaVu Sans Mono',consolas,'Courier New',monospace\">  <span style=\"color: #008080; text-decoration-color: #008080; font-weight: bold\">24</span>. <span style=\"color: #0000ff; text-decoration-color: #0000ff; text-decoration: underline\">https://python.langchain.com/docs/how_to/MultiQueryRetriever</span>\n",
              "</pre>\n"
            ],
            "text/plain": [
              "  \u001b[1;36m24\u001b[0m. \u001b[4;94mhttps://python.langchain.com/docs/how_to/MultiQueryRetriever\u001b[0m\n"
            ]
          },
          "metadata": {},
          "output_type": "display_data"
        },
        {
          "data": {
            "text/html": [
              "<pre style=\"white-space:pre;overflow-x:auto;line-height:normal;font-family:Menlo,'DejaVu Sans Mono',consolas,'Courier New',monospace\">  <span style=\"color: #008080; text-decoration-color: #008080; font-weight: bold\">25</span>. <span style=\"color: #0000ff; text-decoration-color: #0000ff; text-decoration: underline\">https://python.langchain.com/docs/how_to/response_metadata</span>\n",
              "</pre>\n"
            ],
            "text/plain": [
              "  \u001b[1;36m25\u001b[0m. \u001b[4;94mhttps://python.langchain.com/docs/how_to/response_metadata\u001b[0m\n"
            ]
          },
          "metadata": {},
          "output_type": "display_data"
        },
        {
          "data": {
            "text/html": [
              "<pre style=\"white-space:pre;overflow-x:auto;line-height:normal;font-family:Menlo,'DejaVu Sans Mono',consolas,'Courier New',monospace\">  <span style=\"color: #008080; text-decoration-color: #008080; font-weight: bold\">26</span>. <span style=\"color: #0000ff; text-decoration-color: #0000ff; text-decoration: underline\">https://python.langchain.com/docs/how_to/passthrough</span>\n",
              "</pre>\n"
            ],
            "text/plain": [
              "  \u001b[1;36m26\u001b[0m. \u001b[4;94mhttps://python.langchain.com/docs/how_to/passthrough\u001b[0m\n"
            ]
          },
          "metadata": {},
          "output_type": "display_data"
        },
        {
          "data": {
            "text/html": [
              "<pre style=\"white-space:pre;overflow-x:auto;line-height:normal;font-family:Menlo,'DejaVu Sans Mono',consolas,'Courier New',monospace\">  <span style=\"color: #008080; text-decoration-color: #008080; font-weight: bold\">27</span>. <span style=\"color: #0000ff; text-decoration-color: #0000ff; text-decoration: underline\">https://python.langchain.com/docs/how_to/custom_chat_model</span>\n",
              "</pre>\n"
            ],
            "text/plain": [
              "  \u001b[1;36m27\u001b[0m. \u001b[4;94mhttps://python.langchain.com/docs/how_to/custom_chat_model\u001b[0m\n"
            ]
          },
          "metadata": {},
          "output_type": "display_data"
        },
        {
          "data": {
            "text/html": [
              "<pre style=\"white-space:pre;overflow-x:auto;line-height:normal;font-family:Menlo,'DejaVu Sans Mono',consolas,'Courier New',monospace\">  <span style=\"color: #008080; text-decoration-color: #008080; font-weight: bold\">28</span>. <span style=\"color: #0000ff; text-decoration-color: #0000ff; text-decoration: underline\">https://python.langchain.com/docs/tutorials/summarization</span>\n",
              "</pre>\n"
            ],
            "text/plain": [
              "  \u001b[1;36m28\u001b[0m. \u001b[4;94mhttps://python.langchain.com/docs/tutorials/summarization\u001b[0m\n"
            ]
          },
          "metadata": {},
          "output_type": "display_data"
        },
        {
          "data": {
            "text/html": [
              "<pre style=\"white-space:pre;overflow-x:auto;line-height:normal;font-family:Menlo,'DejaVu Sans Mono',consolas,'Courier New',monospace\">  <span style=\"color: #008080; text-decoration-color: #008080; font-weight: bold\">29</span>. <span style=\"color: #0000ff; text-decoration-color: #0000ff; text-decoration: underline\">https://python.langchain.com/docs/how_to/assign</span>\n",
              "</pre>\n"
            ],
            "text/plain": [
              "  \u001b[1;36m29\u001b[0m. \u001b[4;94mhttps://python.langchain.com/docs/how_to/assign\u001b[0m\n"
            ]
          },
          "metadata": {},
          "output_type": "display_data"
        },
        {
          "data": {
            "text/html": [
              "<pre style=\"white-space:pre;overflow-x:auto;line-height:normal;font-family:Menlo,'DejaVu Sans Mono',consolas,'Courier New',monospace\">  <span style=\"color: #008080; text-decoration-color: #008080; font-weight: bold\">30</span>. <span style=\"color: #0000ff; text-decoration-color: #0000ff; text-decoration: underline\">https://python.langchain.com/community/index.html</span>\n",
              "</pre>\n"
            ],
            "text/plain": [
              "  \u001b[1;36m30\u001b[0m. \u001b[4;94mhttps://python.langchain.com/community/index.html\u001b[0m\n"
            ]
          },
          "metadata": {},
          "output_type": "display_data"
        },
        {
          "data": {
            "text/html": [
              "<pre style=\"white-space:pre;overflow-x:auto;line-height:normal;font-family:Menlo,'DejaVu Sans Mono',consolas,'Courier New',monospace\">  <span style=\"color: #008080; text-decoration-color: #008080; font-weight: bold\">31</span>. <span style=\"color: #0000ff; text-decoration-color: #0000ff; text-decoration: underline\">https://python.langchain.com/docs/how_to/parent_document_retriever</span>\n",
              "</pre>\n"
            ],
            "text/plain": [
              "  \u001b[1;36m31\u001b[0m. \u001b[4;94mhttps://python.langchain.com/docs/how_to/parent_document_retriever\u001b[0m\n"
            ]
          },
          "metadata": {},
          "output_type": "display_data"
        },
        {
          "data": {
            "text/html": [
              "<pre style=\"white-space:pre;overflow-x:auto;line-height:normal;font-family:Menlo,'DejaVu Sans Mono',consolas,'Courier New',monospace\">  <span style=\"color: #008080; text-decoration-color: #008080; font-weight: bold\">32</span>. <span style=\"color: #0000ff; text-decoration-color: #0000ff; text-decoration: underline\">https://python.langchain.com/docs/concepts/tokens</span>\n",
              "</pre>\n"
            ],
            "text/plain": [
              "  \u001b[1;36m32\u001b[0m. \u001b[4;94mhttps://python.langchain.com/docs/concepts/tokens\u001b[0m\n"
            ]
          },
          "metadata": {},
          "output_type": "display_data"
        },
        {
          "data": {
            "text/html": [
              "<pre style=\"white-space:pre;overflow-x:auto;line-height:normal;font-family:Menlo,'DejaVu Sans Mono',consolas,'Courier New',monospace\">  <span style=\"color: #008080; text-decoration-color: #008080; font-weight: bold\">33</span>. <span style=\"color: #0000ff; text-decoration-color: #0000ff; text-decoration: underline\">https://python.langchain.com/docs/how_to/query_few_shot</span>\n",
              "</pre>\n"
            ],
            "text/plain": [
              "  \u001b[1;36m33\u001b[0m. \u001b[4;94mhttps://python.langchain.com/docs/how_to/query_few_shot\u001b[0m\n"
            ]
          },
          "metadata": {},
          "output_type": "display_data"
        },
        {
          "data": {
            "text/html": [
              "<pre style=\"white-space:pre;overflow-x:auto;line-height:normal;font-family:Menlo,'DejaVu Sans Mono',consolas,'Courier New',monospace\">  <span style=\"color: #008080; text-decoration-color: #008080; font-weight: bold\">34</span>. <span style=\"color: #0000ff; text-decoration-color: #0000ff; text-decoration: underline\">https://python.langchain.com/docs/how_to/custom_retriever</span>\n",
              "</pre>\n"
            ],
            "text/plain": [
              "  \u001b[1;36m34\u001b[0m. \u001b[4;94mhttps://python.langchain.com/docs/how_to/custom_retriever\u001b[0m\n"
            ]
          },
          "metadata": {},
          "output_type": "display_data"
        },
        {
          "data": {
            "text/html": [
              "<pre style=\"white-space:pre;overflow-x:auto;line-height:normal;font-family:Menlo,'DejaVu Sans Mono',consolas,'Courier New',monospace\">  <span style=\"color: #008080; text-decoration-color: #008080; font-weight: bold\">35</span>. <span style=\"color: #0000ff; text-decoration-color: #0000ff; text-decoration: underline\">https://python.langchain.com/docs/how_to/callbacks_attach</span>\n",
              "</pre>\n"
            ],
            "text/plain": [
              "  \u001b[1;36m35\u001b[0m. \u001b[4;94mhttps://python.langchain.com/docs/how_to/callbacks_attach\u001b[0m\n"
            ]
          },
          "metadata": {},
          "output_type": "display_data"
        },
        {
          "data": {
            "text/html": [
              "<pre style=\"white-space:pre;overflow-x:auto;line-height:normal;font-family:Menlo,'DejaVu Sans Mono',consolas,'Courier New',monospace\">  <span style=\"color: #008080; text-decoration-color: #008080; font-weight: bold\">36</span>. <span style=\"color: #0000ff; text-decoration-color: #0000ff; text-decoration: underline\">https://python.langchain.com/ibm/index.html</span>\n",
              "</pre>\n"
            ],
            "text/plain": [
              "  \u001b[1;36m36\u001b[0m. \u001b[4;94mhttps://python.langchain.com/ibm/index.html\u001b[0m\n"
            ]
          },
          "metadata": {},
          "output_type": "display_data"
        },
        {
          "data": {
            "text/html": [
              "<pre style=\"white-space:pre;overflow-x:auto;line-height:normal;font-family:Menlo,'DejaVu Sans Mono',consolas,'Courier New',monospace\">  <span style=\"color: #008080; text-decoration-color: #008080; font-weight: bold\">37</span>. <span style=\"color: #0000ff; text-decoration-color: #0000ff; text-decoration: underline\">https://python.langchain.com/docs/integrations/providers</span>\n",
              "</pre>\n"
            ],
            "text/plain": [
              "  \u001b[1;36m37\u001b[0m. \u001b[4;94mhttps://python.langchain.com/docs/integrations/providers\u001b[0m\n"
            ]
          },
          "metadata": {},
          "output_type": "display_data"
        },
        {
          "data": {
            "text/html": [
              "<pre style=\"white-space:pre;overflow-x:auto;line-height:normal;font-family:Menlo,'DejaVu Sans Mono',consolas,'Courier New',monospace\">  <span style=\"color: #008080; text-decoration-color: #008080; font-weight: bold\">38</span>. <span style=\"color: #0000ff; text-decoration-color: #0000ff; text-decoration: underline\">https://python.langchain.com/docs/how_to/tool_calling_parallel</span>\n",
              "</pre>\n"
            ],
            "text/plain": [
              "  \u001b[1;36m38\u001b[0m. \u001b[4;94mhttps://python.langchain.com/docs/how_to/tool_calling_parallel\u001b[0m\n"
            ]
          },
          "metadata": {},
          "output_type": "display_data"
        },
        {
          "data": {
            "text/html": [
              "<pre style=\"white-space:pre;overflow-x:auto;line-height:normal;font-family:Menlo,'DejaVu Sans Mono',consolas,'Courier New',monospace\">  <span style=\"color: #008080; text-decoration-color: #008080; font-weight: bold\">39</span>. <span style=\"color: #0000ff; text-decoration-color: #0000ff; text-decoration: underline\">https://python.langchain.com/docs/concepts/vectorstores</span>\n",
              "</pre>\n"
            ],
            "text/plain": [
              "  \u001b[1;36m39\u001b[0m. \u001b[4;94mhttps://python.langchain.com/docs/concepts/vectorstores\u001b[0m\n"
            ]
          },
          "metadata": {},
          "output_type": "display_data"
        },
        {
          "data": {
            "text/html": [
              "<pre style=\"white-space:pre;overflow-x:auto;line-height:normal;font-family:Menlo,'DejaVu Sans Mono',consolas,'Courier New',monospace\">  <span style=\"color: #008080; text-decoration-color: #008080; font-weight: bold\">40</span>. <span style=\"color: #0000ff; text-decoration-color: #0000ff; text-decoration: underline\">https://python.langchain.com/together/index.html</span>\n",
              "</pre>\n"
            ],
            "text/plain": [
              "  \u001b[1;36m40\u001b[0m. \u001b[4;94mhttps://python.langchain.com/together/index.html\u001b[0m\n"
            ]
          },
          "metadata": {},
          "output_type": "display_data"
        },
        {
          "data": {
            "text/html": [
              "<pre style=\"white-space:pre;overflow-x:auto;line-height:normal;font-family:Menlo,'DejaVu Sans Mono',consolas,'Courier New',monospace\">  <span style=\"color: #008080; text-decoration-color: #008080; font-weight: bold\">41</span>. <span style=\"color: #0000ff; text-decoration-color: #0000ff; text-decoration: underline\">https://python.langchain.com/pinecone/index.html</span>\n",
              "</pre>\n"
            ],
            "text/plain": [
              "  \u001b[1;36m41\u001b[0m. \u001b[4;94mhttps://python.langchain.com/pinecone/index.html\u001b[0m\n"
            ]
          },
          "metadata": {},
          "output_type": "display_data"
        },
        {
          "data": {
            "text/html": [
              "<pre style=\"white-space:pre;overflow-x:auto;line-height:normal;font-family:Menlo,'DejaVu Sans Mono',consolas,'Courier New',monospace\">  <span style=\"color: #008080; text-decoration-color: #008080; font-weight: bold\">42</span>. <span style=\"color: #0000ff; text-decoration-color: #0000ff; text-decoration: underline\">https://python.langchain.com/docs/how_to/document_loader_office_file</span>\n",
              "</pre>\n"
            ],
            "text/plain": [
              "  \u001b[1;36m42\u001b[0m. \u001b[4;94mhttps://python.langchain.com/docs/how_to/document_loader_office_file\u001b[0m\n"
            ]
          },
          "metadata": {},
          "output_type": "display_data"
        },
        {
          "data": {
            "text/html": [
              "<pre style=\"white-space:pre;overflow-x:auto;line-height:normal;font-family:Menlo,'DejaVu Sans Mono',consolas,'Courier New',monospace\">  <span style=\"color: #008080; text-decoration-color: #008080; font-weight: bold\">43</span>. <span style=\"color: #0000ff; text-decoration-color: #0000ff; text-decoration: underline\">https://python.langchain.com/docs/how_to/example_selectors_mmr</span>\n",
              "</pre>\n"
            ],
            "text/plain": [
              "  \u001b[1;36m43\u001b[0m. \u001b[4;94mhttps://python.langchain.com/docs/how_to/example_selectors_mmr\u001b[0m\n"
            ]
          },
          "metadata": {},
          "output_type": "display_data"
        },
        {
          "data": {
            "text/html": [
              "<pre style=\"white-space:pre;overflow-x:auto;line-height:normal;font-family:Menlo,'DejaVu Sans Mono',consolas,'Courier New',monospace\">  <span style=\"color: #008080; text-decoration-color: #008080; font-weight: bold\">44</span>. <span style=\"color: #0000ff; text-decoration-color: #0000ff; text-decoration: underline\">https://python.langchain.com/prompty/index.html</span>\n",
              "</pre>\n"
            ],
            "text/plain": [
              "  \u001b[1;36m44\u001b[0m. \u001b[4;94mhttps://python.langchain.com/prompty/index.html\u001b[0m\n"
            ]
          },
          "metadata": {},
          "output_type": "display_data"
        },
        {
          "data": {
            "text/html": [
              "<pre style=\"white-space:pre;overflow-x:auto;line-height:normal;font-family:Menlo,'DejaVu Sans Mono',consolas,'Courier New',monospace\">  <span style=\"color: #008080; text-decoration-color: #008080; font-weight: bold\">45</span>. <span style=\"color: #0000ff; text-decoration-color: #0000ff; text-decoration: underline\">https://python.langchain.com/docs/concepts/messages</span>\n",
              "</pre>\n"
            ],
            "text/plain": [
              "  \u001b[1;36m45\u001b[0m. \u001b[4;94mhttps://python.langchain.com/docs/concepts/messages\u001b[0m\n"
            ]
          },
          "metadata": {},
          "output_type": "display_data"
        },
        {
          "data": {
            "text/html": [
              "<pre style=\"white-space:pre;overflow-x:auto;line-height:normal;font-family:Menlo,'DejaVu Sans Mono',consolas,'Courier New',monospace\">  <span style=\"color: #008080; text-decoration-color: #008080; font-weight: bold\">46</span>. <span style=\"color: #0000ff; text-decoration-color: #0000ff; text-decoration: underline\">https://python.langchain.com/docs/how_to/custom_llm</span>\n",
              "</pre>\n"
            ],
            "text/plain": [
              "  \u001b[1;36m46\u001b[0m. \u001b[4;94mhttps://python.langchain.com/docs/how_to/custom_llm\u001b[0m\n"
            ]
          },
          "metadata": {},
          "output_type": "display_data"
        },
        {
          "data": {
            "text/html": [
              "<pre style=\"white-space:pre;overflow-x:auto;line-height:normal;font-family:Menlo,'DejaVu Sans Mono',consolas,'Courier New',monospace\">  <span style=\"color: #008080; text-decoration-color: #008080; font-weight: bold\">47</span>. <span style=\"color: #0000ff; text-decoration-color: #0000ff; text-decoration: underline\">https://python.langchain.com/snowflake/index.html</span>\n",
              "</pre>\n"
            ],
            "text/plain": [
              "  \u001b[1;36m47\u001b[0m. \u001b[4;94mhttps://python.langchain.com/snowflake/index.html\u001b[0m\n"
            ]
          },
          "metadata": {},
          "output_type": "display_data"
        },
        {
          "data": {
            "text/html": [
              "<pre style=\"white-space:pre;overflow-x:auto;line-height:normal;font-family:Menlo,'DejaVu Sans Mono',consolas,'Courier New',monospace\">  <span style=\"color: #008080; text-decoration-color: #008080; font-weight: bold\">48</span>. <span style=\"color: #0000ff; text-decoration-color: #0000ff; text-decoration: underline\">https://python.langchain.com/docs/concepts/output_parsers</span>\n",
              "</pre>\n"
            ],
            "text/plain": [
              "  \u001b[1;36m48\u001b[0m. \u001b[4;94mhttps://python.langchain.com/docs/concepts/output_parsers\u001b[0m\n"
            ]
          },
          "metadata": {},
          "output_type": "display_data"
        },
        {
          "data": {
            "text/html": [
              "<pre style=\"white-space:pre;overflow-x:auto;line-height:normal;font-family:Menlo,'DejaVu Sans Mono',consolas,'Courier New',monospace\">  <span style=\"color: #008080; text-decoration-color: #008080; font-weight: bold\">49</span>. <span style=\"color: #0000ff; text-decoration-color: #0000ff; text-decoration: underline\">https://python.langchain.com/docs/concepts/retrievers</span>\n",
              "</pre>\n"
            ],
            "text/plain": [
              "  \u001b[1;36m49\u001b[0m. \u001b[4;94mhttps://python.langchain.com/docs/concepts/retrievers\u001b[0m\n"
            ]
          },
          "metadata": {},
          "output_type": "display_data"
        },
        {
          "data": {
            "text/html": [
              "<pre style=\"white-space:pre;overflow-x:auto;line-height:normal;font-family:Menlo,'DejaVu Sans Mono',consolas,'Courier New',monospace\">  <span style=\"color: #008080; text-decoration-color: #008080; font-weight: bold\">50</span>. <span style=\"color: #0000ff; text-decoration-color: #0000ff; text-decoration: underline\">https://python.langchain.com/docs/how_to/sql_large_db</span>\n",
              "</pre>\n"
            ],
            "text/plain": [
              "  \u001b[1;36m50\u001b[0m. \u001b[4;94mhttps://python.langchain.com/docs/how_to/sql_large_db\u001b[0m\n"
            ]
          },
          "metadata": {},
          "output_type": "display_data"
        },
        {
          "data": {
            "text/html": [
              "<pre style=\"white-space:pre;overflow-x:auto;line-height:normal;font-family:Menlo,'DejaVu Sans Mono',consolas,'Courier New',monospace\">  <span style=\"color: #808000; text-decoration-color: #808000\">...</span> and <span style=\"color: #008080; text-decoration-color: #008080; font-weight: bold\">331</span> more URLs\n",
              "</pre>\n"
            ],
            "text/plain": [
              "  \u001b[33m...\u001b[0m and \u001b[1;36m331\u001b[0m more URLs\n"
            ]
          },
          "metadata": {},
          "output_type": "display_data"
        }
      ],
      "source": [
        "# Example website to map\n",
        "demo_url = \"https://python.langchain.com/docs/introduction/\"\n",
        "\n",
        "console.print(f\"🔍 Mapping website structure for: {demo_url}\", style=\"bold blue\")\n",
        "console.print(\"This may take a moment...\")\n",
        "\n",
        "# Map the website structure\n",
        "site_map = tavily_map.invoke(demo_url)\n",
        "\n",
        "# Display results\n",
        "urls = site_map.get('results', [])\n",
        "console.print(f\"\\n✅ Successfully mapped {len(urls)} URLs!\", style=\"bold green\")\n",
        "\n",
        "# Show first 10 URLs as examples\n",
        "console.print(\"\\n📋 First 50 discovered URLs:\", style=\"bold yellow\")\n",
        "for i, url in enumerate(urls[:50], 1):\n",
        "    console.print(f\"  {i:2d}. {url}\")\n",
        "\n",
        "if len(urls) > 10:\n",
        "    console.print(f\"  ... and {len(urls) - 50} more URLs\")\n"
      ]
    },
    {
      "cell_type": "markdown",
      "metadata": {
        "id": "UHv-60zimbyH"
      },
      "source": [
        "## 🔍 TavilyExtract: Clean Content Extraction\n",
        "\n",
        "TavilyExtract takes URLs and returns clean, structured content without ads, navigation, or other noise. Perfect for:\n",
        "- Documentation processing\n",
        "- Content analysis\n",
        "- Research and data collection\n",
        "- Building knowledge bases\n",
        "\n",
        "### Key Features:\n",
        "- Removes HTML markup and navigation\n",
        "- Extracts main content only\n",
        "- Handles JavaScript-rendered content\n",
        "- Batch processing support"
      ]
    },
    {
      "cell_type": "code",
      "execution_count": 25,
      "metadata": {
        "colab": {
          "base_uri": "https://localhost:8080/",
          "height": 0
        },
        "id": "5Vj1ZeaqKFpV",
        "outputId": "36e93bf4-29d5-43c9-fd44-11c6c8ce76a3"
      },
      "outputs": [
        {
          "name": "stdout",
          "output_type": "stream",
          "text": [
            "✅ TavilyExtract initialized successfully!\n"
          ]
        }
      ],
      "source": [
        "# Initialize TavilyExtract\n",
        "tavily_extract = TavilyExtract()\n",
        "\n",
        "print(\"✅ TavilyExtract initialized successfully!\")\n"
      ]
    },
    {
      "cell_type": "markdown",
      "metadata": {
        "id": "QtLQklhamjiZ"
      },
      "source": [
        "### 📄 Demo: Extracting Content from URLs\n",
        "\n",
        "Let's extract clean content from some of the URLs we discovered earlier.\n"
      ]
    },
    {
      "cell_type": "code",
      "execution_count": 27,
      "metadata": {
        "colab": {
          "base_uri": "https://localhost:8080/",
          "height": 9443
        },
        "id": "hJ8NNHBDKFpV",
        "outputId": "b9e0c404-af90-48c8-e508-23dbd90a7e7a"
      },
      "outputs": [
        {
          "data": {
            "text/html": [
              "<pre style=\"white-space:pre;overflow-x:auto;line-height:normal;font-family:Menlo,'DejaVu Sans Mono',consolas,'Courier New',monospace\"><span style=\"color: #000080; text-decoration-color: #000080; font-weight: bold\">📚 Extracting content from </span><span style=\"color: #008080; text-decoration-color: #008080; font-weight: bold\">1</span><span style=\"color: #000080; text-decoration-color: #000080; font-weight: bold\"> URLs</span><span style=\"color: #808000; text-decoration-color: #808000; font-weight: bold\">...</span>\n",
              "</pre>\n"
            ],
            "text/plain": [
              "\u001b[1;34m📚 Extracting content from \u001b[0m\u001b[1;36m1\u001b[0m\u001b[1;34m URLs\u001b[0m\u001b[1;33m...\u001b[0m\n"
            ]
          },
          "metadata": {},
          "output_type": "display_data"
        },
        {
          "data": {
            "text/html": [
              "<pre style=\"white-space:pre;overflow-x:auto;line-height:normal;font-family:Menlo,'DejaVu Sans Mono',consolas,'Courier New',monospace\">\n",
              "<span style=\"color: #008000; text-decoration-color: #008000; font-weight: bold\">✅ Successfully extracted </span><span style=\"color: #008080; text-decoration-color: #008080; font-weight: bold\">0</span><span style=\"color: #008000; text-decoration-color: #008000; font-weight: bold\"> documents!</span>\n",
              "</pre>\n"
            ],
            "text/plain": [
              "\n",
              "\u001b[1;32m✅ Successfully extracted \u001b[0m\u001b[1;36m0\u001b[0m\u001b[1;32m documents!\u001b[0m\n"
            ]
          },
          "metadata": {},
          "output_type": "display_data"
        }
      ],
      "source": [
        "# Select a few interesting URLs for extraction\n",
        "sample_urls = [urls[15]]  # Take first 5 URLs\n",
        "console.print(f\"📚 Extracting content from {len(sample_urls)} URLs...\", style=\"bold blue\")\n",
        "\n",
        "# Extract content\n",
        "extraction_result = await tavily_extract.ainvoke(input={\"urls\": sample_urls})\n",
        "\n",
        "# Display results\n",
        "extracted_docs = extraction_result.get('results', [])\n",
        "console.print(f\"\\n✅ Successfully extracted {len(extracted_docs)} documents!\", style=\"bold green\")\n",
        "\n",
        "# Show summary of each extracted document\n",
        "for i, doc in enumerate(extracted_docs, 1):\n",
        "    url = doc.get('url', 'Unknown')\n",
        "    content = doc.get('raw_content', '')\n",
        "\n",
        "    # Create a panel for each document\n",
        "    panel_content = f\"\"\"URL: {url}\n",
        "Content Length: {len(content):,} characters\n",
        "Preview: {content}...\"\"\"\n",
        "\n",
        "    console.print(Panel(panel_content, title=f\"Document {i}\", border_style=\"blue\"))\n",
        "    print()  # Add spacing\n"
      ]
    },
    {
      "cell_type": "markdown",
      "metadata": {
        "id": "hxYWKCEDnvVU"
      },
      "source": [
        "### ⚡ Batch Processing Demo\n",
        "\n",
        "For larger datasets, we can process URLs in batches to optimize performance and handle rate limits.\n"
      ]
    },
    {
      "cell_type": "code",
      "execution_count": null,
      "metadata": {
        "colab": {
          "base_uri": "https://localhost:8080/",
          "height": 167
        },
        "id": "9iqi-NRFKFpV",
        "outputId": "a8e88357-bf6c-4b6e-be52-e6e9d87aced7"
      },
      "outputs": [],
      "source": [
        "def chunk_urls(urls: List[str], chunk_size: int = 3) -> List[List[str]]:\n",
        "    \"\"\"Split URLs into chunks of specified size.\"\"\"\n",
        "    chunks = []\n",
        "    for i in range(0, len(urls), chunk_size):\n",
        "        chunk = urls[i:i + chunk_size]\n",
        "        chunks.append(chunk)\n",
        "    return chunks\n",
        "\n",
        "async def extract_batch(urls: List[str], batch_num: int) -> List[Dict[str, Any]]:\n",
        "    \"\"\"Extract documents from a batch of URLs.\"\"\"\n",
        "    try:\n",
        "        console.print(f\"🔄 Processing batch {batch_num} with {len(urls)} URLs\", style=\"blue\")\n",
        "        docs = await tavily_extract.ainvoke(input={\"urls\": urls})\n",
        "        results = docs.get('results', [])\n",
        "        console.print(f\"✅ Batch {batch_num} completed - extracted {len(results)} documents\", style=\"green\")\n",
        "        return results\n",
        "    except Exception as e:\n",
        "        console.print(f\"❌ Batch {batch_num} failed: {e}\", style=\"red\")\n",
        "        return []\n",
        "\n",
        "# Process a larger set of URLs in batches\n",
        "url_batches = chunk_urls(urls[:9], chunk_size=3) # Take first 9 URLs for batch demo, split to batches of 3\n",
        "\n",
        "console.print(f\"📦 Processing 9 URLs in {len(url_batches)} batches\", style=\"bold yellow\")\n",
        "\n",
        "# Process batches concurrently\n",
        "tasks = [extract_batch(batch, i + 1) for i, batch in enumerate(url_batches)]\n",
        "batch_results = await asyncio.gather(*tasks)\n",
        "\n",
        "# Flatten results\n",
        "all_extracted = []\n",
        "for batch_result in batch_results:\n",
        "    all_extracted.extend(batch_result)\n",
        "\n",
        "console.print(f\"\\n🎉 Batch processing complete! Total documents extracted: {len(all_extracted)}\", style=\"bold green\")\n"
      ]
    },
    {
      "cell_type": "markdown",
      "metadata": {
        "id": "YkP6R-Sgn3dY"
      },
      "source": [
        "## 🎯 Real-World Use Cases\n",
        "\n",
        "Here are some practical applications of TavilyMap and TavilyExtract:\n",
        "\n",
        "### 1. Documentation Scraping\n",
        "- Map entire documentation sites\n",
        "- Extract clean content for search indexes\n",
        "- Build knowledge bases from existing docs\n",
        "\n",
        "### 2. Competitive Analysis\n",
        "- Map competitor websites\n",
        "- Extract product information\n",
        "- Monitor content changes\n",
        "\n",
        "### 3. Research & Content Collection\n",
        "- Gather information from multiple sources\n",
        "- Build datasets for analysis\n",
        "- Create content archives\n",
        "\n",
        "### 4. SEO & Site Analysis\n",
        "- Discover all pages on a site\n",
        "- Analyze content structure\n",
        "- Identify content gaps\n"
      ]
    },
    {
      "cell_type": "markdown",
      "metadata": {
        "id": "DoyoDss4n8Tj"
      },
      "source": [
        "## 🎯 Conclusion\n",
        "\n",
        "This tutorial demonstrated the power of TavilyMap and TavilyExtract for automated web content discovery and extraction:\n",
        "\n",
        "### Key Takeaways:\n",
        "\n",
        "1. **TavilyMap** is perfect for:\n",
        "   - Discovering website structures\n",
        "   - Finding all pages on a site\n",
        "   - Site auditing\n",
        "\n",
        "2. **TavilyExtract** excels at:\n",
        "   - Clean content extraction\n",
        "   - Removing HTML noise\n",
        "   - Batch processing\n",
        "   - Structured data collection\n",
        "\n",
        "3. **Combined** they enable:\n",
        "   - Complete documentation scraping\n",
        "   - Automated content pipelines\n",
        "   - Knowledge base creation\n",
        "   - Research automation\n",
        "\n",
        "### Next Steps:\n",
        "- Integrate with vector databases for semantic search\n",
        "- Add content filtering and classification\n",
        "- Build monitoring systems for content changes\n",
        "- Create automated reporting dashboards\n",
        "\n",
        "---\n",
        "\n",
        "**Happy scraping!** 🚀"
      ]
    }
  ],
  "metadata": {
    "colab": {
      "collapsed_sections": [
        "znycq-qvlG1R"
      ],
      "provenance": []
    },
    "kernelspec": {
      "display_name": "documentation-helper-H_4XlsCB",
      "language": "python",
      "name": "python3"
    },
    "language_info": {
      "codemirror_mode": {
        "name": "ipython",
        "version": 3
      },
      "file_extension": ".py",
      "mimetype": "text/x-python",
      "name": "python",
      "nbconvert_exporter": "python",
      "pygments_lexer": "ipython3",
      "version": "3.12.3"
    }
  },
  "nbformat": 4,
  "nbformat_minor": 0
}
